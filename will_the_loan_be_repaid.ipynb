{
 "cells": [
  {
   "cell_type": "code",
   "execution_count": 1,
   "id": "be709ace",
   "metadata": {},
   "outputs": [],
   "source": [
    "import pandas as pd\n",
    "import numpy as np\n",
    "import seaborn as sns\n",
    "import matplotlib.pyplot as plt"
   ]
  },
  {
   "cell_type": "code",
   "execution_count": 2,
   "id": "1a744154",
   "metadata": {},
   "outputs": [],
   "source": [
    "data_info = pd.read_csv('/Users/andrew/Downloads/TensorFlow_FILES/DATA/lending_club_info.csv',\n",
    "                 index_col='LoanStatNew')"
   ]
  },
  {
   "cell_type": "code",
   "execution_count": 3,
   "id": "4453fd14",
   "metadata": {},
   "outputs": [
    {
     "name": "stdout",
     "output_type": "stream",
     "text": [
      "LoanStatNew\n",
      "loan_amnt               The listed amount of the loan applied for by t...\n",
      "term                    The number of payments on the loan. Values are...\n",
      "int_rate                                        Interest Rate on the loan\n",
      "installment             The monthly payment owed by the borrower if th...\n",
      "grade                                              LC assigned loan grade\n",
      "sub_grade                                       LC assigned loan subgrade\n",
      "emp_title               The job title supplied by the Borrower when ap...\n",
      "emp_length              Employment length in years. Possible values ar...\n",
      "home_ownership          The home ownership status provided by the borr...\n",
      "annual_inc              The self-reported annual income provided by th...\n",
      "verification_status     Indicates if income was verified by LC, not ve...\n",
      "issue_d                               The month which the loan was funded\n",
      "loan_status                                    Current status of the loan\n",
      "purpose                 A category provided by the borrower for the lo...\n",
      "title                             The loan title provided by the borrower\n",
      "zip_code                The first 3 numbers of the zip code provided b...\n",
      "addr_state              The state provided by the borrower in the loan...\n",
      "dti                     A ratio calculated using the borrower’s total ...\n",
      "earliest_cr_line        The month the borrower's earliest reported cre...\n",
      "open_acc                The number of open credit lines in the borrowe...\n",
      "pub_rec                               Number of derogatory public records\n",
      "revol_bal                                  Total credit revolving balance\n",
      "revol_util              Revolving line utilization rate, or the amount...\n",
      "total_acc               The total number of credit lines currently in ...\n",
      "initial_list_status     The initial listing status of the loan. Possib...\n",
      "application_type        Indicates whether the loan is an individual ap...\n",
      "mort_acc                                     Number of mortgage accounts.\n",
      "pub_rec_bankruptcies                 Number of public record bankruptcies\n",
      "Name: Description, dtype: object\n"
     ]
    }
   ],
   "source": [
    "print(data_info['Description'])"
   ]
  },
  {
   "cell_type": "code",
   "execution_count": 4,
   "id": "1fdac5a1",
   "metadata": {},
   "outputs": [
    {
     "name": "stdout",
     "output_type": "stream",
     "text": [
      "Revolving line utilization rate, or the amount of credit the borrower is using relative to all available revolving credit.\n"
     ]
    }
   ],
   "source": [
    "print(data_info.loc['revol_util']['Description'])"
   ]
  },
  {
   "cell_type": "code",
   "execution_count": 5,
   "id": "b40d9c41",
   "metadata": {},
   "outputs": [
    {
     "data": {
      "text/plain": [
       "'Current status of the loan'"
      ]
     },
     "execution_count": 5,
     "metadata": {},
     "output_type": "execute_result"
    }
   ],
   "source": [
    "data_info.loc['loan_status']['Description']"
   ]
  },
  {
   "cell_type": "code",
   "execution_count": 6,
   "id": "f798a1c1",
   "metadata": {},
   "outputs": [],
   "source": [
    "def feat_info(col_name):\n",
    "    print(data_info.loc[col_name]['Description'])"
   ]
  },
  {
   "cell_type": "code",
   "execution_count": 7,
   "id": "128b9a40",
   "metadata": {},
   "outputs": [
    {
     "name": "stdout",
     "output_type": "stream",
     "text": [
      "The number of payments on the loan. Values are in months and can be either 36 or 60.\n"
     ]
    }
   ],
   "source": [
    "feat_info('term')"
   ]
  },
  {
   "cell_type": "code",
   "execution_count": 8,
   "id": "b40f8ca8",
   "metadata": {},
   "outputs": [],
   "source": [
    "df = pd.read_csv('/Users/andrew/Downloads/TensorFlow_FILES/DATA/lending_club_loan_two.csv')"
   ]
  },
  {
   "cell_type": "code",
   "execution_count": 9,
   "id": "4381b5e3",
   "metadata": {},
   "outputs": [
    {
     "data": {
      "text/html": [
       "<div>\n",
       "<style scoped>\n",
       "    .dataframe tbody tr th:only-of-type {\n",
       "        vertical-align: middle;\n",
       "    }\n",
       "\n",
       "    .dataframe tbody tr th {\n",
       "        vertical-align: top;\n",
       "    }\n",
       "\n",
       "    .dataframe thead th {\n",
       "        text-align: right;\n",
       "    }\n",
       "</style>\n",
       "<table border=\"1\" class=\"dataframe\">\n",
       "  <thead>\n",
       "    <tr style=\"text-align: right;\">\n",
       "      <th></th>\n",
       "      <th>0</th>\n",
       "      <th>1</th>\n",
       "      <th>2</th>\n",
       "      <th>3</th>\n",
       "      <th>4</th>\n",
       "      <th>5</th>\n",
       "      <th>6</th>\n",
       "      <th>7</th>\n",
       "      <th>8</th>\n",
       "      <th>9</th>\n",
       "      <th>...</th>\n",
       "      <th>396020</th>\n",
       "      <th>396021</th>\n",
       "      <th>396022</th>\n",
       "      <th>396023</th>\n",
       "      <th>396024</th>\n",
       "      <th>396025</th>\n",
       "      <th>396026</th>\n",
       "      <th>396027</th>\n",
       "      <th>396028</th>\n",
       "      <th>396029</th>\n",
       "    </tr>\n",
       "  </thead>\n",
       "  <tbody>\n",
       "    <tr>\n",
       "      <th>loan_amnt</th>\n",
       "      <td>10000.0</td>\n",
       "      <td>8000.0</td>\n",
       "      <td>15600.0</td>\n",
       "      <td>7200.0</td>\n",
       "      <td>24375.0</td>\n",
       "      <td>20000.0</td>\n",
       "      <td>18000.0</td>\n",
       "      <td>13000.0</td>\n",
       "      <td>18900.0</td>\n",
       "      <td>26300.0</td>\n",
       "      <td>...</td>\n",
       "      <td>10000.0</td>\n",
       "      <td>3200.0</td>\n",
       "      <td>12000.0</td>\n",
       "      <td>22000.0</td>\n",
       "      <td>6000.0</td>\n",
       "      <td>10000.0</td>\n",
       "      <td>21000.0</td>\n",
       "      <td>5000.0</td>\n",
       "      <td>21000.0</td>\n",
       "      <td>2000.0</td>\n",
       "    </tr>\n",
       "    <tr>\n",
       "      <th>term</th>\n",
       "      <td>36 months</td>\n",
       "      <td>36 months</td>\n",
       "      <td>36 months</td>\n",
       "      <td>36 months</td>\n",
       "      <td>60 months</td>\n",
       "      <td>36 months</td>\n",
       "      <td>36 months</td>\n",
       "      <td>36 months</td>\n",
       "      <td>60 months</td>\n",
       "      <td>36 months</td>\n",
       "      <td>...</td>\n",
       "      <td>36 months</td>\n",
       "      <td>36 months</td>\n",
       "      <td>36 months</td>\n",
       "      <td>36 months</td>\n",
       "      <td>36 months</td>\n",
       "      <td>60 months</td>\n",
       "      <td>36 months</td>\n",
       "      <td>36 months</td>\n",
       "      <td>60 months</td>\n",
       "      <td>36 months</td>\n",
       "    </tr>\n",
       "    <tr>\n",
       "      <th>int_rate</th>\n",
       "      <td>11.44</td>\n",
       "      <td>11.99</td>\n",
       "      <td>10.49</td>\n",
       "      <td>6.49</td>\n",
       "      <td>17.27</td>\n",
       "      <td>13.33</td>\n",
       "      <td>5.32</td>\n",
       "      <td>11.14</td>\n",
       "      <td>10.99</td>\n",
       "      <td>16.29</td>\n",
       "      <td>...</td>\n",
       "      <td>9.76</td>\n",
       "      <td>5.42</td>\n",
       "      <td>12.29</td>\n",
       "      <td>18.92</td>\n",
       "      <td>13.11</td>\n",
       "      <td>10.99</td>\n",
       "      <td>12.29</td>\n",
       "      <td>9.99</td>\n",
       "      <td>15.31</td>\n",
       "      <td>13.61</td>\n",
       "    </tr>\n",
       "    <tr>\n",
       "      <th>installment</th>\n",
       "      <td>329.48</td>\n",
       "      <td>265.68</td>\n",
       "      <td>506.97</td>\n",
       "      <td>220.65</td>\n",
       "      <td>609.33</td>\n",
       "      <td>677.07</td>\n",
       "      <td>542.07</td>\n",
       "      <td>426.47</td>\n",
       "      <td>410.84</td>\n",
       "      <td>928.4</td>\n",
       "      <td>...</td>\n",
       "      <td>321.55</td>\n",
       "      <td>96.52</td>\n",
       "      <td>400.24</td>\n",
       "      <td>805.55</td>\n",
       "      <td>202.49</td>\n",
       "      <td>217.38</td>\n",
       "      <td>700.42</td>\n",
       "      <td>161.32</td>\n",
       "      <td>503.02</td>\n",
       "      <td>67.98</td>\n",
       "    </tr>\n",
       "    <tr>\n",
       "      <th>grade</th>\n",
       "      <td>B</td>\n",
       "      <td>B</td>\n",
       "      <td>B</td>\n",
       "      <td>A</td>\n",
       "      <td>C</td>\n",
       "      <td>C</td>\n",
       "      <td>A</td>\n",
       "      <td>B</td>\n",
       "      <td>B</td>\n",
       "      <td>C</td>\n",
       "      <td>...</td>\n",
       "      <td>B</td>\n",
       "      <td>A</td>\n",
       "      <td>C</td>\n",
       "      <td>D</td>\n",
       "      <td>B</td>\n",
       "      <td>B</td>\n",
       "      <td>C</td>\n",
       "      <td>B</td>\n",
       "      <td>C</td>\n",
       "      <td>C</td>\n",
       "    </tr>\n",
       "    <tr>\n",
       "      <th>sub_grade</th>\n",
       "      <td>B4</td>\n",
       "      <td>B5</td>\n",
       "      <td>B3</td>\n",
       "      <td>A2</td>\n",
       "      <td>C5</td>\n",
       "      <td>C3</td>\n",
       "      <td>A1</td>\n",
       "      <td>B2</td>\n",
       "      <td>B3</td>\n",
       "      <td>C5</td>\n",
       "      <td>...</td>\n",
       "      <td>B3</td>\n",
       "      <td>A1</td>\n",
       "      <td>C1</td>\n",
       "      <td>D4</td>\n",
       "      <td>B4</td>\n",
       "      <td>B4</td>\n",
       "      <td>C1</td>\n",
       "      <td>B1</td>\n",
       "      <td>C2</td>\n",
       "      <td>C2</td>\n",
       "    </tr>\n",
       "    <tr>\n",
       "      <th>emp_title</th>\n",
       "      <td>Marketing</td>\n",
       "      <td>Credit analyst</td>\n",
       "      <td>Statistician</td>\n",
       "      <td>Client Advocate</td>\n",
       "      <td>Destiny Management Inc.</td>\n",
       "      <td>HR Specialist</td>\n",
       "      <td>Software Development Engineer</td>\n",
       "      <td>Office Depot</td>\n",
       "      <td>Application Architect</td>\n",
       "      <td>Regado Biosciences</td>\n",
       "      <td>...</td>\n",
       "      <td>Retirement Counselor</td>\n",
       "      <td>St Francis Medical Center</td>\n",
       "      <td>Data Center Specialist II</td>\n",
       "      <td>Operations Manager</td>\n",
       "      <td>Michael's Arts &amp; Crafts</td>\n",
       "      <td>licensed bankere</td>\n",
       "      <td>Agent</td>\n",
       "      <td>City Carrier</td>\n",
       "      <td>Gracon Services, Inc</td>\n",
       "      <td>Internal Revenue Service</td>\n",
       "    </tr>\n",
       "    <tr>\n",
       "      <th>emp_length</th>\n",
       "      <td>10+ years</td>\n",
       "      <td>4 years</td>\n",
       "      <td>&lt; 1 year</td>\n",
       "      <td>6 years</td>\n",
       "      <td>9 years</td>\n",
       "      <td>10+ years</td>\n",
       "      <td>2 years</td>\n",
       "      <td>10+ years</td>\n",
       "      <td>10+ years</td>\n",
       "      <td>3 years</td>\n",
       "      <td>...</td>\n",
       "      <td>10+ years</td>\n",
       "      <td>10+ years</td>\n",
       "      <td>1 year</td>\n",
       "      <td>10+ years</td>\n",
       "      <td>5 years</td>\n",
       "      <td>2 years</td>\n",
       "      <td>5 years</td>\n",
       "      <td>10+ years</td>\n",
       "      <td>10+ years</td>\n",
       "      <td>10+ years</td>\n",
       "    </tr>\n",
       "    <tr>\n",
       "      <th>home_ownership</th>\n",
       "      <td>RENT</td>\n",
       "      <td>MORTGAGE</td>\n",
       "      <td>RENT</td>\n",
       "      <td>RENT</td>\n",
       "      <td>MORTGAGE</td>\n",
       "      <td>MORTGAGE</td>\n",
       "      <td>MORTGAGE</td>\n",
       "      <td>RENT</td>\n",
       "      <td>RENT</td>\n",
       "      <td>MORTGAGE</td>\n",
       "      <td>...</td>\n",
       "      <td>RENT</td>\n",
       "      <td>RENT</td>\n",
       "      <td>RENT</td>\n",
       "      <td>MORTGAGE</td>\n",
       "      <td>RENT</td>\n",
       "      <td>RENT</td>\n",
       "      <td>MORTGAGE</td>\n",
       "      <td>RENT</td>\n",
       "      <td>MORTGAGE</td>\n",
       "      <td>RENT</td>\n",
       "    </tr>\n",
       "    <tr>\n",
       "      <th>annual_inc</th>\n",
       "      <td>117000.0</td>\n",
       "      <td>65000.0</td>\n",
       "      <td>43057.0</td>\n",
       "      <td>54000.0</td>\n",
       "      <td>55000.0</td>\n",
       "      <td>86788.0</td>\n",
       "      <td>125000.0</td>\n",
       "      <td>46000.0</td>\n",
       "      <td>103000.0</td>\n",
       "      <td>115000.0</td>\n",
       "      <td>...</td>\n",
       "      <td>40000.0</td>\n",
       "      <td>33000.0</td>\n",
       "      <td>52100.0</td>\n",
       "      <td>138000.0</td>\n",
       "      <td>64000.0</td>\n",
       "      <td>40000.0</td>\n",
       "      <td>110000.0</td>\n",
       "      <td>56500.0</td>\n",
       "      <td>64000.0</td>\n",
       "      <td>42996.0</td>\n",
       "    </tr>\n",
       "    <tr>\n",
       "      <th>verification_status</th>\n",
       "      <td>Not Verified</td>\n",
       "      <td>Not Verified</td>\n",
       "      <td>Source Verified</td>\n",
       "      <td>Not Verified</td>\n",
       "      <td>Verified</td>\n",
       "      <td>Verified</td>\n",
       "      <td>Source Verified</td>\n",
       "      <td>Not Verified</td>\n",
       "      <td>Verified</td>\n",
       "      <td>Verified</td>\n",
       "      <td>...</td>\n",
       "      <td>Not Verified</td>\n",
       "      <td>Not Verified</td>\n",
       "      <td>Source Verified</td>\n",
       "      <td>Not Verified</td>\n",
       "      <td>Not Verified</td>\n",
       "      <td>Source Verified</td>\n",
       "      <td>Source Verified</td>\n",
       "      <td>Verified</td>\n",
       "      <td>Verified</td>\n",
       "      <td>Verified</td>\n",
       "    </tr>\n",
       "    <tr>\n",
       "      <th>issue_d</th>\n",
       "      <td>Jan-2015</td>\n",
       "      <td>Jan-2015</td>\n",
       "      <td>Jan-2015</td>\n",
       "      <td>Nov-2014</td>\n",
       "      <td>Apr-2013</td>\n",
       "      <td>Sep-2015</td>\n",
       "      <td>Sep-2015</td>\n",
       "      <td>Sep-2012</td>\n",
       "      <td>Oct-2014</td>\n",
       "      <td>Apr-2012</td>\n",
       "      <td>...</td>\n",
       "      <td>Dec-2015</td>\n",
       "      <td>Feb-2011</td>\n",
       "      <td>Oct-2015</td>\n",
       "      <td>Apr-2014</td>\n",
       "      <td>Mar-2013</td>\n",
       "      <td>Oct-2015</td>\n",
       "      <td>Feb-2015</td>\n",
       "      <td>Oct-2013</td>\n",
       "      <td>Aug-2012</td>\n",
       "      <td>Jun-2010</td>\n",
       "    </tr>\n",
       "    <tr>\n",
       "      <th>loan_status</th>\n",
       "      <td>Fully Paid</td>\n",
       "      <td>Fully Paid</td>\n",
       "      <td>Fully Paid</td>\n",
       "      <td>Fully Paid</td>\n",
       "      <td>Charged Off</td>\n",
       "      <td>Fully Paid</td>\n",
       "      <td>Fully Paid</td>\n",
       "      <td>Fully Paid</td>\n",
       "      <td>Fully Paid</td>\n",
       "      <td>Fully Paid</td>\n",
       "      <td>...</td>\n",
       "      <td>Fully Paid</td>\n",
       "      <td>Fully Paid</td>\n",
       "      <td>Fully Paid</td>\n",
       "      <td>Fully Paid</td>\n",
       "      <td>Fully Paid</td>\n",
       "      <td>Fully Paid</td>\n",
       "      <td>Fully Paid</td>\n",
       "      <td>Fully Paid</td>\n",
       "      <td>Fully Paid</td>\n",
       "      <td>Fully Paid</td>\n",
       "    </tr>\n",
       "    <tr>\n",
       "      <th>purpose</th>\n",
       "      <td>vacation</td>\n",
       "      <td>debt_consolidation</td>\n",
       "      <td>credit_card</td>\n",
       "      <td>credit_card</td>\n",
       "      <td>credit_card</td>\n",
       "      <td>debt_consolidation</td>\n",
       "      <td>home_improvement</td>\n",
       "      <td>credit_card</td>\n",
       "      <td>debt_consolidation</td>\n",
       "      <td>debt_consolidation</td>\n",
       "      <td>...</td>\n",
       "      <td>debt_consolidation</td>\n",
       "      <td>debt_consolidation</td>\n",
       "      <td>debt_consolidation</td>\n",
       "      <td>debt_consolidation</td>\n",
       "      <td>debt_consolidation</td>\n",
       "      <td>debt_consolidation</td>\n",
       "      <td>debt_consolidation</td>\n",
       "      <td>debt_consolidation</td>\n",
       "      <td>debt_consolidation</td>\n",
       "      <td>debt_consolidation</td>\n",
       "    </tr>\n",
       "    <tr>\n",
       "      <th>title</th>\n",
       "      <td>Vacation</td>\n",
       "      <td>Debt consolidation</td>\n",
       "      <td>Credit card refinancing</td>\n",
       "      <td>Credit card refinancing</td>\n",
       "      <td>Credit Card Refinance</td>\n",
       "      <td>Debt consolidation</td>\n",
       "      <td>Home improvement</td>\n",
       "      <td>No More Credit Cards</td>\n",
       "      <td>Debt consolidation</td>\n",
       "      <td>Debt Consolidation</td>\n",
       "      <td>...</td>\n",
       "      <td>Debt consolidation</td>\n",
       "      <td>2011 Insurance and Debt Consolidation</td>\n",
       "      <td>Debt consolidation</td>\n",
       "      <td>Debt consolidation</td>\n",
       "      <td>Credit buster</td>\n",
       "      <td>Debt consolidation</td>\n",
       "      <td>Debt consolidation</td>\n",
       "      <td>pay off credit cards</td>\n",
       "      <td>Loanforpayoff</td>\n",
       "      <td>Toxic Debt Payoff</td>\n",
       "    </tr>\n",
       "    <tr>\n",
       "      <th>dti</th>\n",
       "      <td>26.24</td>\n",
       "      <td>22.05</td>\n",
       "      <td>12.79</td>\n",
       "      <td>2.6</td>\n",
       "      <td>33.95</td>\n",
       "      <td>16.31</td>\n",
       "      <td>1.36</td>\n",
       "      <td>26.87</td>\n",
       "      <td>12.52</td>\n",
       "      <td>23.69</td>\n",
       "      <td>...</td>\n",
       "      <td>23.4</td>\n",
       "      <td>21.45</td>\n",
       "      <td>17.28</td>\n",
       "      <td>24.43</td>\n",
       "      <td>10.81</td>\n",
       "      <td>15.63</td>\n",
       "      <td>21.45</td>\n",
       "      <td>17.56</td>\n",
       "      <td>15.88</td>\n",
       "      <td>8.32</td>\n",
       "    </tr>\n",
       "    <tr>\n",
       "      <th>earliest_cr_line</th>\n",
       "      <td>Jun-1990</td>\n",
       "      <td>Jul-2004</td>\n",
       "      <td>Aug-2007</td>\n",
       "      <td>Sep-2006</td>\n",
       "      <td>Mar-1999</td>\n",
       "      <td>Jan-2005</td>\n",
       "      <td>Aug-2005</td>\n",
       "      <td>Sep-1994</td>\n",
       "      <td>Jun-1994</td>\n",
       "      <td>Dec-1997</td>\n",
       "      <td>...</td>\n",
       "      <td>Jan-1988</td>\n",
       "      <td>Nov-1996</td>\n",
       "      <td>Oct-2004</td>\n",
       "      <td>May-1998</td>\n",
       "      <td>Nov-1991</td>\n",
       "      <td>Nov-2004</td>\n",
       "      <td>Feb-2006</td>\n",
       "      <td>Mar-1997</td>\n",
       "      <td>Nov-1990</td>\n",
       "      <td>Sep-1998</td>\n",
       "    </tr>\n",
       "    <tr>\n",
       "      <th>open_acc</th>\n",
       "      <td>16.0</td>\n",
       "      <td>17.0</td>\n",
       "      <td>13.0</td>\n",
       "      <td>6.0</td>\n",
       "      <td>13.0</td>\n",
       "      <td>8.0</td>\n",
       "      <td>8.0</td>\n",
       "      <td>11.0</td>\n",
       "      <td>13.0</td>\n",
       "      <td>13.0</td>\n",
       "      <td>...</td>\n",
       "      <td>9.0</td>\n",
       "      <td>18.0</td>\n",
       "      <td>6.0</td>\n",
       "      <td>18.0</td>\n",
       "      <td>7.0</td>\n",
       "      <td>6.0</td>\n",
       "      <td>6.0</td>\n",
       "      <td>15.0</td>\n",
       "      <td>9.0</td>\n",
       "      <td>3.0</td>\n",
       "    </tr>\n",
       "    <tr>\n",
       "      <th>pub_rec</th>\n",
       "      <td>0.0</td>\n",
       "      <td>0.0</td>\n",
       "      <td>0.0</td>\n",
       "      <td>0.0</td>\n",
       "      <td>0.0</td>\n",
       "      <td>0.0</td>\n",
       "      <td>0.0</td>\n",
       "      <td>0.0</td>\n",
       "      <td>0.0</td>\n",
       "      <td>0.0</td>\n",
       "      <td>...</td>\n",
       "      <td>0.0</td>\n",
       "      <td>0.0</td>\n",
       "      <td>0.0</td>\n",
       "      <td>0.0</td>\n",
       "      <td>0.0</td>\n",
       "      <td>0.0</td>\n",
       "      <td>0.0</td>\n",
       "      <td>0.0</td>\n",
       "      <td>0.0</td>\n",
       "      <td>0.0</td>\n",
       "    </tr>\n",
       "    <tr>\n",
       "      <th>revol_bal</th>\n",
       "      <td>36369.0</td>\n",
       "      <td>20131.0</td>\n",
       "      <td>11987.0</td>\n",
       "      <td>5472.0</td>\n",
       "      <td>24584.0</td>\n",
       "      <td>25757.0</td>\n",
       "      <td>4178.0</td>\n",
       "      <td>13425.0</td>\n",
       "      <td>18637.0</td>\n",
       "      <td>22171.0</td>\n",
       "      <td>...</td>\n",
       "      <td>8819.0</td>\n",
       "      <td>3985.0</td>\n",
       "      <td>9580.0</td>\n",
       "      <td>22287.0</td>\n",
       "      <td>11456.0</td>\n",
       "      <td>1990.0</td>\n",
       "      <td>43263.0</td>\n",
       "      <td>32704.0</td>\n",
       "      <td>15704.0</td>\n",
       "      <td>4292.0</td>\n",
       "    </tr>\n",
       "    <tr>\n",
       "      <th>revol_util</th>\n",
       "      <td>41.8</td>\n",
       "      <td>53.3</td>\n",
       "      <td>92.2</td>\n",
       "      <td>21.5</td>\n",
       "      <td>69.8</td>\n",
       "      <td>100.6</td>\n",
       "      <td>4.9</td>\n",
       "      <td>64.5</td>\n",
       "      <td>32.9</td>\n",
       "      <td>82.4</td>\n",
       "      <td>...</td>\n",
       "      <td>57.3</td>\n",
       "      <td>7.6</td>\n",
       "      <td>66.1</td>\n",
       "      <td>50.4</td>\n",
       "      <td>97.1</td>\n",
       "      <td>34.3</td>\n",
       "      <td>95.7</td>\n",
       "      <td>66.9</td>\n",
       "      <td>53.8</td>\n",
       "      <td>91.3</td>\n",
       "    </tr>\n",
       "    <tr>\n",
       "      <th>total_acc</th>\n",
       "      <td>25.0</td>\n",
       "      <td>27.0</td>\n",
       "      <td>26.0</td>\n",
       "      <td>13.0</td>\n",
       "      <td>43.0</td>\n",
       "      <td>23.0</td>\n",
       "      <td>25.0</td>\n",
       "      <td>15.0</td>\n",
       "      <td>40.0</td>\n",
       "      <td>37.0</td>\n",
       "      <td>...</td>\n",
       "      <td>18.0</td>\n",
       "      <td>50.0</td>\n",
       "      <td>18.0</td>\n",
       "      <td>39.0</td>\n",
       "      <td>9.0</td>\n",
       "      <td>23.0</td>\n",
       "      <td>8.0</td>\n",
       "      <td>23.0</td>\n",
       "      <td>20.0</td>\n",
       "      <td>19.0</td>\n",
       "    </tr>\n",
       "    <tr>\n",
       "      <th>initial_list_status</th>\n",
       "      <td>w</td>\n",
       "      <td>f</td>\n",
       "      <td>f</td>\n",
       "      <td>f</td>\n",
       "      <td>f</td>\n",
       "      <td>f</td>\n",
       "      <td>f</td>\n",
       "      <td>f</td>\n",
       "      <td>w</td>\n",
       "      <td>f</td>\n",
       "      <td>...</td>\n",
       "      <td>w</td>\n",
       "      <td>f</td>\n",
       "      <td>w</td>\n",
       "      <td>f</td>\n",
       "      <td>w</td>\n",
       "      <td>w</td>\n",
       "      <td>f</td>\n",
       "      <td>f</td>\n",
       "      <td>f</td>\n",
       "      <td>f</td>\n",
       "    </tr>\n",
       "    <tr>\n",
       "      <th>application_type</th>\n",
       "      <td>INDIVIDUAL</td>\n",
       "      <td>INDIVIDUAL</td>\n",
       "      <td>INDIVIDUAL</td>\n",
       "      <td>INDIVIDUAL</td>\n",
       "      <td>INDIVIDUAL</td>\n",
       "      <td>INDIVIDUAL</td>\n",
       "      <td>INDIVIDUAL</td>\n",
       "      <td>INDIVIDUAL</td>\n",
       "      <td>INDIVIDUAL</td>\n",
       "      <td>INDIVIDUAL</td>\n",
       "      <td>...</td>\n",
       "      <td>INDIVIDUAL</td>\n",
       "      <td>INDIVIDUAL</td>\n",
       "      <td>INDIVIDUAL</td>\n",
       "      <td>INDIVIDUAL</td>\n",
       "      <td>INDIVIDUAL</td>\n",
       "      <td>INDIVIDUAL</td>\n",
       "      <td>INDIVIDUAL</td>\n",
       "      <td>INDIVIDUAL</td>\n",
       "      <td>INDIVIDUAL</td>\n",
       "      <td>INDIVIDUAL</td>\n",
       "    </tr>\n",
       "    <tr>\n",
       "      <th>mort_acc</th>\n",
       "      <td>0.0</td>\n",
       "      <td>3.0</td>\n",
       "      <td>0.0</td>\n",
       "      <td>0.0</td>\n",
       "      <td>1.0</td>\n",
       "      <td>4.0</td>\n",
       "      <td>3.0</td>\n",
       "      <td>0.0</td>\n",
       "      <td>3.0</td>\n",
       "      <td>1.0</td>\n",
       "      <td>...</td>\n",
       "      <td>1.0</td>\n",
       "      <td>NaN</td>\n",
       "      <td>0.0</td>\n",
       "      <td>4.0</td>\n",
       "      <td>0.0</td>\n",
       "      <td>0.0</td>\n",
       "      <td>1.0</td>\n",
       "      <td>0.0</td>\n",
       "      <td>5.0</td>\n",
       "      <td>NaN</td>\n",
       "    </tr>\n",
       "    <tr>\n",
       "      <th>pub_rec_bankruptcies</th>\n",
       "      <td>0.0</td>\n",
       "      <td>0.0</td>\n",
       "      <td>0.0</td>\n",
       "      <td>0.0</td>\n",
       "      <td>0.0</td>\n",
       "      <td>0.0</td>\n",
       "      <td>0.0</td>\n",
       "      <td>0.0</td>\n",
       "      <td>0.0</td>\n",
       "      <td>0.0</td>\n",
       "      <td>...</td>\n",
       "      <td>0.0</td>\n",
       "      <td>0.0</td>\n",
       "      <td>0.0</td>\n",
       "      <td>0.0</td>\n",
       "      <td>0.0</td>\n",
       "      <td>0.0</td>\n",
       "      <td>0.0</td>\n",
       "      <td>0.0</td>\n",
       "      <td>0.0</td>\n",
       "      <td>0.0</td>\n",
       "    </tr>\n",
       "    <tr>\n",
       "      <th>address</th>\n",
       "      <td>0174 Michelle Gateway\\nMendozaberg, OK 22690</td>\n",
       "      <td>1076 Carney Fort Apt. 347\\nLoganmouth, SD 05113</td>\n",
       "      <td>87025 Mark Dale Apt. 269\\nNew Sabrina, WV 05113</td>\n",
       "      <td>823 Reid Ford\\nDelacruzside, MA 00813</td>\n",
       "      <td>679 Luna Roads\\nGreggshire, VA 11650</td>\n",
       "      <td>1726 Cooper Passage Suite 129\\nNorth Deniseber...</td>\n",
       "      <td>1008 Erika Vista Suite 748\\nEast Stephanie, TX...</td>\n",
       "      <td>USCGC Nunez\\nFPO AE 30723</td>\n",
       "      <td>USCGC Tran\\nFPO AP 22690</td>\n",
       "      <td>3390 Luis Rue\\nMauricestad, VA 00813</td>\n",
       "      <td>...</td>\n",
       "      <td>914 Alexander Mountains Apt. 604\\nEast Marco, ...</td>\n",
       "      <td>309 John Mission\\nWest Marc, NY 00813</td>\n",
       "      <td>532 Johnson Drive Apt. 185\\nAndersonside, NY 7...</td>\n",
       "      <td>0297 Flores Dale Suite 441\\nTaylorland, MD 05113</td>\n",
       "      <td>514 Cynthia Park Apt. 402\\nWest Williamside, S...</td>\n",
       "      <td>12951 Williams Crossing\\nJohnnyville, DC 30723</td>\n",
       "      <td>0114 Fowler Field Suite 028\\nRachelborough, LA...</td>\n",
       "      <td>953 Matthew Points Suite 414\\nReedfort, NY 70466</td>\n",
       "      <td>7843 Blake Freeway Apt. 229\\nNew Michael, FL 2...</td>\n",
       "      <td>787 Michelle Causeway\\nBriannaton, AR 48052</td>\n",
       "    </tr>\n",
       "  </tbody>\n",
       "</table>\n",
       "<p>27 rows × 396030 columns</p>\n",
       "</div>"
      ],
      "text/plain": [
       "                                                            0       \\\n",
       "loan_amnt                                                  10000.0   \n",
       "term                                                     36 months   \n",
       "int_rate                                                     11.44   \n",
       "installment                                                 329.48   \n",
       "grade                                                            B   \n",
       "sub_grade                                                       B4   \n",
       "emp_title                                                Marketing   \n",
       "emp_length                                               10+ years   \n",
       "home_ownership                                                RENT   \n",
       "annual_inc                                                117000.0   \n",
       "verification_status                                   Not Verified   \n",
       "issue_d                                                   Jan-2015   \n",
       "loan_status                                             Fully Paid   \n",
       "purpose                                                   vacation   \n",
       "title                                                     Vacation   \n",
       "dti                                                          26.24   \n",
       "earliest_cr_line                                          Jun-1990   \n",
       "open_acc                                                      16.0   \n",
       "pub_rec                                                        0.0   \n",
       "revol_bal                                                  36369.0   \n",
       "revol_util                                                    41.8   \n",
       "total_acc                                                     25.0   \n",
       "initial_list_status                                              w   \n",
       "application_type                                        INDIVIDUAL   \n",
       "mort_acc                                                       0.0   \n",
       "pub_rec_bankruptcies                                           0.0   \n",
       "address               0174 Michelle Gateway\\nMendozaberg, OK 22690   \n",
       "\n",
       "                                                               1       \\\n",
       "loan_amnt                                                      8000.0   \n",
       "term                                                        36 months   \n",
       "int_rate                                                        11.99   \n",
       "installment                                                    265.68   \n",
       "grade                                                               B   \n",
       "sub_grade                                                          B5   \n",
       "emp_title                                             Credit analyst    \n",
       "emp_length                                                    4 years   \n",
       "home_ownership                                               MORTGAGE   \n",
       "annual_inc                                                    65000.0   \n",
       "verification_status                                      Not Verified   \n",
       "issue_d                                                      Jan-2015   \n",
       "loan_status                                                Fully Paid   \n",
       "purpose                                            debt_consolidation   \n",
       "title                                              Debt consolidation   \n",
       "dti                                                             22.05   \n",
       "earliest_cr_line                                             Jul-2004   \n",
       "open_acc                                                         17.0   \n",
       "pub_rec                                                           0.0   \n",
       "revol_bal                                                     20131.0   \n",
       "revol_util                                                       53.3   \n",
       "total_acc                                                        27.0   \n",
       "initial_list_status                                                 f   \n",
       "application_type                                           INDIVIDUAL   \n",
       "mort_acc                                                          3.0   \n",
       "pub_rec_bankruptcies                                              0.0   \n",
       "address               1076 Carney Fort Apt. 347\\nLoganmouth, SD 05113   \n",
       "\n",
       "                                                               2       \\\n",
       "loan_amnt                                                     15600.0   \n",
       "term                                                        36 months   \n",
       "int_rate                                                        10.49   \n",
       "installment                                                    506.97   \n",
       "grade                                                               B   \n",
       "sub_grade                                                          B3   \n",
       "emp_title                                                Statistician   \n",
       "emp_length                                                   < 1 year   \n",
       "home_ownership                                                   RENT   \n",
       "annual_inc                                                    43057.0   \n",
       "verification_status                                   Source Verified   \n",
       "issue_d                                                      Jan-2015   \n",
       "loan_status                                                Fully Paid   \n",
       "purpose                                                   credit_card   \n",
       "title                                         Credit card refinancing   \n",
       "dti                                                             12.79   \n",
       "earliest_cr_line                                             Aug-2007   \n",
       "open_acc                                                         13.0   \n",
       "pub_rec                                                           0.0   \n",
       "revol_bal                                                     11987.0   \n",
       "revol_util                                                       92.2   \n",
       "total_acc                                                        26.0   \n",
       "initial_list_status                                                 f   \n",
       "application_type                                           INDIVIDUAL   \n",
       "mort_acc                                                          0.0   \n",
       "pub_rec_bankruptcies                                              0.0   \n",
       "address               87025 Mark Dale Apt. 269\\nNew Sabrina, WV 05113   \n",
       "\n",
       "                                                     3       \\\n",
       "loan_amnt                                            7200.0   \n",
       "term                                              36 months   \n",
       "int_rate                                               6.49   \n",
       "installment                                          220.65   \n",
       "grade                                                     A   \n",
       "sub_grade                                                A2   \n",
       "emp_title                                   Client Advocate   \n",
       "emp_length                                          6 years   \n",
       "home_ownership                                         RENT   \n",
       "annual_inc                                          54000.0   \n",
       "verification_status                            Not Verified   \n",
       "issue_d                                            Nov-2014   \n",
       "loan_status                                      Fully Paid   \n",
       "purpose                                         credit_card   \n",
       "title                               Credit card refinancing   \n",
       "dti                                                     2.6   \n",
       "earliest_cr_line                                   Sep-2006   \n",
       "open_acc                                                6.0   \n",
       "pub_rec                                                 0.0   \n",
       "revol_bal                                            5472.0   \n",
       "revol_util                                             21.5   \n",
       "total_acc                                              13.0   \n",
       "initial_list_status                                       f   \n",
       "application_type                                 INDIVIDUAL   \n",
       "mort_acc                                                0.0   \n",
       "pub_rec_bankruptcies                                    0.0   \n",
       "address               823 Reid Ford\\nDelacruzside, MA 00813   \n",
       "\n",
       "                                                    4       \\\n",
       "loan_amnt                                          24375.0   \n",
       "term                                             60 months   \n",
       "int_rate                                             17.27   \n",
       "installment                                         609.33   \n",
       "grade                                                    C   \n",
       "sub_grade                                               C5   \n",
       "emp_title                          Destiny Management Inc.   \n",
       "emp_length                                         9 years   \n",
       "home_ownership                                    MORTGAGE   \n",
       "annual_inc                                         55000.0   \n",
       "verification_status                               Verified   \n",
       "issue_d                                           Apr-2013   \n",
       "loan_status                                    Charged Off   \n",
       "purpose                                        credit_card   \n",
       "title                                Credit Card Refinance   \n",
       "dti                                                  33.95   \n",
       "earliest_cr_line                                  Mar-1999   \n",
       "open_acc                                              13.0   \n",
       "pub_rec                                                0.0   \n",
       "revol_bal                                          24584.0   \n",
       "revol_util                                            69.8   \n",
       "total_acc                                             43.0   \n",
       "initial_list_status                                      f   \n",
       "application_type                                INDIVIDUAL   \n",
       "mort_acc                                               1.0   \n",
       "pub_rec_bankruptcies                                   0.0   \n",
       "address               679 Luna Roads\\nGreggshire, VA 11650   \n",
       "\n",
       "                                                                 5       \\\n",
       "loan_amnt                                                       20000.0   \n",
       "term                                                          36 months   \n",
       "int_rate                                                          13.33   \n",
       "installment                                                      677.07   \n",
       "grade                                                                 C   \n",
       "sub_grade                                                            C3   \n",
       "emp_title                                                 HR Specialist   \n",
       "emp_length                                                    10+ years   \n",
       "home_ownership                                                 MORTGAGE   \n",
       "annual_inc                                                      86788.0   \n",
       "verification_status                                            Verified   \n",
       "issue_d                                                        Sep-2015   \n",
       "loan_status                                                  Fully Paid   \n",
       "purpose                                              debt_consolidation   \n",
       "title                                                Debt consolidation   \n",
       "dti                                                               16.31   \n",
       "earliest_cr_line                                               Jan-2005   \n",
       "open_acc                                                            8.0   \n",
       "pub_rec                                                             0.0   \n",
       "revol_bal                                                       25757.0   \n",
       "revol_util                                                        100.6   \n",
       "total_acc                                                          23.0   \n",
       "initial_list_status                                                   f   \n",
       "application_type                                             INDIVIDUAL   \n",
       "mort_acc                                                            4.0   \n",
       "pub_rec_bankruptcies                                                0.0   \n",
       "address               1726 Cooper Passage Suite 129\\nNorth Deniseber...   \n",
       "\n",
       "                                                                 6       \\\n",
       "loan_amnt                                                       18000.0   \n",
       "term                                                          36 months   \n",
       "int_rate                                                           5.32   \n",
       "installment                                                      542.07   \n",
       "grade                                                                 A   \n",
       "sub_grade                                                            A1   \n",
       "emp_title                                 Software Development Engineer   \n",
       "emp_length                                                      2 years   \n",
       "home_ownership                                                 MORTGAGE   \n",
       "annual_inc                                                     125000.0   \n",
       "verification_status                                     Source Verified   \n",
       "issue_d                                                        Sep-2015   \n",
       "loan_status                                                  Fully Paid   \n",
       "purpose                                                home_improvement   \n",
       "title                                                  Home improvement   \n",
       "dti                                                                1.36   \n",
       "earliest_cr_line                                               Aug-2005   \n",
       "open_acc                                                            8.0   \n",
       "pub_rec                                                             0.0   \n",
       "revol_bal                                                        4178.0   \n",
       "revol_util                                                          4.9   \n",
       "total_acc                                                          25.0   \n",
       "initial_list_status                                                   f   \n",
       "application_type                                             INDIVIDUAL   \n",
       "mort_acc                                                            3.0   \n",
       "pub_rec_bankruptcies                                                0.0   \n",
       "address               1008 Erika Vista Suite 748\\nEast Stephanie, TX...   \n",
       "\n",
       "                                         7                         8       \\\n",
       "loan_amnt                               13000.0                   18900.0   \n",
       "term                                  36 months                 60 months   \n",
       "int_rate                                  11.14                     10.99   \n",
       "installment                              426.47                    410.84   \n",
       "grade                                         B                         B   \n",
       "sub_grade                                    B2                        B3   \n",
       "emp_title                          Office Depot     Application Architect   \n",
       "emp_length                            10+ years                 10+ years   \n",
       "home_ownership                             RENT                      RENT   \n",
       "annual_inc                              46000.0                  103000.0   \n",
       "verification_status                Not Verified                  Verified   \n",
       "issue_d                                Sep-2012                  Oct-2014   \n",
       "loan_status                          Fully Paid                Fully Paid   \n",
       "purpose                             credit_card        debt_consolidation   \n",
       "title                      No More Credit Cards        Debt consolidation   \n",
       "dti                                       26.87                     12.52   \n",
       "earliest_cr_line                       Sep-1994                  Jun-1994   \n",
       "open_acc                                   11.0                      13.0   \n",
       "pub_rec                                     0.0                       0.0   \n",
       "revol_bal                               13425.0                   18637.0   \n",
       "revol_util                                 64.5                      32.9   \n",
       "total_acc                                  15.0                      40.0   \n",
       "initial_list_status                           f                         w   \n",
       "application_type                     INDIVIDUAL                INDIVIDUAL   \n",
       "mort_acc                                    0.0                       3.0   \n",
       "pub_rec_bankruptcies                        0.0                       0.0   \n",
       "address               USCGC Nunez\\nFPO AE 30723  USCGC Tran\\nFPO AP 22690   \n",
       "\n",
       "                                                    9       ...  \\\n",
       "loan_amnt                                          26300.0  ...   \n",
       "term                                             36 months  ...   \n",
       "int_rate                                             16.29  ...   \n",
       "installment                                          928.4  ...   \n",
       "grade                                                    C  ...   \n",
       "sub_grade                                               C5  ...   \n",
       "emp_title                               Regado Biosciences  ...   \n",
       "emp_length                                         3 years  ...   \n",
       "home_ownership                                    MORTGAGE  ...   \n",
       "annual_inc                                        115000.0  ...   \n",
       "verification_status                               Verified  ...   \n",
       "issue_d                                           Apr-2012  ...   \n",
       "loan_status                                     Fully Paid  ...   \n",
       "purpose                                 debt_consolidation  ...   \n",
       "title                                   Debt Consolidation  ...   \n",
       "dti                                                  23.69  ...   \n",
       "earliest_cr_line                                  Dec-1997  ...   \n",
       "open_acc                                              13.0  ...   \n",
       "pub_rec                                                0.0  ...   \n",
       "revol_bal                                          22171.0  ...   \n",
       "revol_util                                            82.4  ...   \n",
       "total_acc                                             37.0  ...   \n",
       "initial_list_status                                      f  ...   \n",
       "application_type                                INDIVIDUAL  ...   \n",
       "mort_acc                                               1.0  ...   \n",
       "pub_rec_bankruptcies                                   0.0  ...   \n",
       "address               3390 Luis Rue\\nMauricestad, VA 00813  ...   \n",
       "\n",
       "                                                                 396020  \\\n",
       "loan_amnt                                                       10000.0   \n",
       "term                                                          36 months   \n",
       "int_rate                                                           9.76   \n",
       "installment                                                      321.55   \n",
       "grade                                                                 B   \n",
       "sub_grade                                                            B3   \n",
       "emp_title                                          Retirement Counselor   \n",
       "emp_length                                                    10+ years   \n",
       "home_ownership                                                     RENT   \n",
       "annual_inc                                                      40000.0   \n",
       "verification_status                                        Not Verified   \n",
       "issue_d                                                        Dec-2015   \n",
       "loan_status                                                  Fully Paid   \n",
       "purpose                                              debt_consolidation   \n",
       "title                                                Debt consolidation   \n",
       "dti                                                                23.4   \n",
       "earliest_cr_line                                               Jan-1988   \n",
       "open_acc                                                            9.0   \n",
       "pub_rec                                                             0.0   \n",
       "revol_bal                                                        8819.0   \n",
       "revol_util                                                         57.3   \n",
       "total_acc                                                          18.0   \n",
       "initial_list_status                                                   w   \n",
       "application_type                                             INDIVIDUAL   \n",
       "mort_acc                                                            1.0   \n",
       "pub_rec_bankruptcies                                                0.0   \n",
       "address               914 Alexander Mountains Apt. 604\\nEast Marco, ...   \n",
       "\n",
       "                                                     396021  \\\n",
       "loan_amnt                                            3200.0   \n",
       "term                                              36 months   \n",
       "int_rate                                               5.42   \n",
       "installment                                           96.52   \n",
       "grade                                                     A   \n",
       "sub_grade                                                A1   \n",
       "emp_title                         St Francis Medical Center   \n",
       "emp_length                                        10+ years   \n",
       "home_ownership                                         RENT   \n",
       "annual_inc                                          33000.0   \n",
       "verification_status                            Not Verified   \n",
       "issue_d                                            Feb-2011   \n",
       "loan_status                                      Fully Paid   \n",
       "purpose                                  debt_consolidation   \n",
       "title                 2011 Insurance and Debt Consolidation   \n",
       "dti                                                   21.45   \n",
       "earliest_cr_line                                   Nov-1996   \n",
       "open_acc                                               18.0   \n",
       "pub_rec                                                 0.0   \n",
       "revol_bal                                            3985.0   \n",
       "revol_util                                              7.6   \n",
       "total_acc                                              50.0   \n",
       "initial_list_status                                       f   \n",
       "application_type                                 INDIVIDUAL   \n",
       "mort_acc                                                NaN   \n",
       "pub_rec_bankruptcies                                    0.0   \n",
       "address               309 John Mission\\nWest Marc, NY 00813   \n",
       "\n",
       "                                                                 396022  \\\n",
       "loan_amnt                                                       12000.0   \n",
       "term                                                          36 months   \n",
       "int_rate                                                          12.29   \n",
       "installment                                                      400.24   \n",
       "grade                                                                 C   \n",
       "sub_grade                                                            C1   \n",
       "emp_title                                     Data Center Specialist II   \n",
       "emp_length                                                       1 year   \n",
       "home_ownership                                                     RENT   \n",
       "annual_inc                                                      52100.0   \n",
       "verification_status                                     Source Verified   \n",
       "issue_d                                                        Oct-2015   \n",
       "loan_status                                                  Fully Paid   \n",
       "purpose                                              debt_consolidation   \n",
       "title                                                Debt consolidation   \n",
       "dti                                                               17.28   \n",
       "earliest_cr_line                                               Oct-2004   \n",
       "open_acc                                                            6.0   \n",
       "pub_rec                                                             0.0   \n",
       "revol_bal                                                        9580.0   \n",
       "revol_util                                                         66.1   \n",
       "total_acc                                                          18.0   \n",
       "initial_list_status                                                   w   \n",
       "application_type                                             INDIVIDUAL   \n",
       "mort_acc                                                            0.0   \n",
       "pub_rec_bankruptcies                                                0.0   \n",
       "address               532 Johnson Drive Apt. 185\\nAndersonside, NY 7...   \n",
       "\n",
       "                                                                396023  \\\n",
       "loan_amnt                                                      22000.0   \n",
       "term                                                         36 months   \n",
       "int_rate                                                         18.92   \n",
       "installment                                                     805.55   \n",
       "grade                                                                D   \n",
       "sub_grade                                                           D4   \n",
       "emp_title                                           Operations Manager   \n",
       "emp_length                                                   10+ years   \n",
       "home_ownership                                                MORTGAGE   \n",
       "annual_inc                                                    138000.0   \n",
       "verification_status                                       Not Verified   \n",
       "issue_d                                                       Apr-2014   \n",
       "loan_status                                                 Fully Paid   \n",
       "purpose                                             debt_consolidation   \n",
       "title                                               Debt consolidation   \n",
       "dti                                                              24.43   \n",
       "earliest_cr_line                                              May-1998   \n",
       "open_acc                                                          18.0   \n",
       "pub_rec                                                            0.0   \n",
       "revol_bal                                                      22287.0   \n",
       "revol_util                                                        50.4   \n",
       "total_acc                                                         39.0   \n",
       "initial_list_status                                                  f   \n",
       "application_type                                            INDIVIDUAL   \n",
       "mort_acc                                                           4.0   \n",
       "pub_rec_bankruptcies                                               0.0   \n",
       "address               0297 Flores Dale Suite 441\\nTaylorland, MD 05113   \n",
       "\n",
       "                                                                 396024  \\\n",
       "loan_amnt                                                        6000.0   \n",
       "term                                                          36 months   \n",
       "int_rate                                                          13.11   \n",
       "installment                                                      202.49   \n",
       "grade                                                                 B   \n",
       "sub_grade                                                            B4   \n",
       "emp_title                                       Michael's Arts & Crafts   \n",
       "emp_length                                                      5 years   \n",
       "home_ownership                                                     RENT   \n",
       "annual_inc                                                      64000.0   \n",
       "verification_status                                        Not Verified   \n",
       "issue_d                                                        Mar-2013   \n",
       "loan_status                                                  Fully Paid   \n",
       "purpose                                              debt_consolidation   \n",
       "title                                                    Credit buster    \n",
       "dti                                                               10.81   \n",
       "earliest_cr_line                                               Nov-1991   \n",
       "open_acc                                                            7.0   \n",
       "pub_rec                                                             0.0   \n",
       "revol_bal                                                       11456.0   \n",
       "revol_util                                                         97.1   \n",
       "total_acc                                                           9.0   \n",
       "initial_list_status                                                   w   \n",
       "application_type                                             INDIVIDUAL   \n",
       "mort_acc                                                            0.0   \n",
       "pub_rec_bankruptcies                                                0.0   \n",
       "address               514 Cynthia Park Apt. 402\\nWest Williamside, S...   \n",
       "\n",
       "                                                              396025  \\\n",
       "loan_amnt                                                    10000.0   \n",
       "term                                                       60 months   \n",
       "int_rate                                                       10.99   \n",
       "installment                                                   217.38   \n",
       "grade                                                              B   \n",
       "sub_grade                                                         B4   \n",
       "emp_title                                           licensed bankere   \n",
       "emp_length                                                   2 years   \n",
       "home_ownership                                                  RENT   \n",
       "annual_inc                                                   40000.0   \n",
       "verification_status                                  Source Verified   \n",
       "issue_d                                                     Oct-2015   \n",
       "loan_status                                               Fully Paid   \n",
       "purpose                                           debt_consolidation   \n",
       "title                                             Debt consolidation   \n",
       "dti                                                            15.63   \n",
       "earliest_cr_line                                            Nov-2004   \n",
       "open_acc                                                         6.0   \n",
       "pub_rec                                                          0.0   \n",
       "revol_bal                                                     1990.0   \n",
       "revol_util                                                      34.3   \n",
       "total_acc                                                       23.0   \n",
       "initial_list_status                                                w   \n",
       "application_type                                          INDIVIDUAL   \n",
       "mort_acc                                                         0.0   \n",
       "pub_rec_bankruptcies                                             0.0   \n",
       "address               12951 Williams Crossing\\nJohnnyville, DC 30723   \n",
       "\n",
       "                                                                 396026  \\\n",
       "loan_amnt                                                       21000.0   \n",
       "term                                                          36 months   \n",
       "int_rate                                                          12.29   \n",
       "installment                                                      700.42   \n",
       "grade                                                                 C   \n",
       "sub_grade                                                            C1   \n",
       "emp_title                                                         Agent   \n",
       "emp_length                                                      5 years   \n",
       "home_ownership                                                 MORTGAGE   \n",
       "annual_inc                                                     110000.0   \n",
       "verification_status                                     Source Verified   \n",
       "issue_d                                                        Feb-2015   \n",
       "loan_status                                                  Fully Paid   \n",
       "purpose                                              debt_consolidation   \n",
       "title                                                Debt consolidation   \n",
       "dti                                                               21.45   \n",
       "earliest_cr_line                                               Feb-2006   \n",
       "open_acc                                                            6.0   \n",
       "pub_rec                                                             0.0   \n",
       "revol_bal                                                       43263.0   \n",
       "revol_util                                                         95.7   \n",
       "total_acc                                                           8.0   \n",
       "initial_list_status                                                   f   \n",
       "application_type                                             INDIVIDUAL   \n",
       "mort_acc                                                            1.0   \n",
       "pub_rec_bankruptcies                                                0.0   \n",
       "address               0114 Fowler Field Suite 028\\nRachelborough, LA...   \n",
       "\n",
       "                                                                396027  \\\n",
       "loan_amnt                                                       5000.0   \n",
       "term                                                         36 months   \n",
       "int_rate                                                          9.99   \n",
       "installment                                                     161.32   \n",
       "grade                                                                B   \n",
       "sub_grade                                                           B1   \n",
       "emp_title                                                 City Carrier   \n",
       "emp_length                                                   10+ years   \n",
       "home_ownership                                                    RENT   \n",
       "annual_inc                                                     56500.0   \n",
       "verification_status                                           Verified   \n",
       "issue_d                                                       Oct-2013   \n",
       "loan_status                                                 Fully Paid   \n",
       "purpose                                             debt_consolidation   \n",
       "title                                             pay off credit cards   \n",
       "dti                                                              17.56   \n",
       "earliest_cr_line                                              Mar-1997   \n",
       "open_acc                                                          15.0   \n",
       "pub_rec                                                            0.0   \n",
       "revol_bal                                                      32704.0   \n",
       "revol_util                                                        66.9   \n",
       "total_acc                                                         23.0   \n",
       "initial_list_status                                                  f   \n",
       "application_type                                            INDIVIDUAL   \n",
       "mort_acc                                                           0.0   \n",
       "pub_rec_bankruptcies                                               0.0   \n",
       "address               953 Matthew Points Suite 414\\nReedfort, NY 70466   \n",
       "\n",
       "                                                                 396028  \\\n",
       "loan_amnt                                                       21000.0   \n",
       "term                                                          60 months   \n",
       "int_rate                                                          15.31   \n",
       "installment                                                      503.02   \n",
       "grade                                                                 C   \n",
       "sub_grade                                                            C2   \n",
       "emp_title                                          Gracon Services, Inc   \n",
       "emp_length                                                    10+ years   \n",
       "home_ownership                                                 MORTGAGE   \n",
       "annual_inc                                                      64000.0   \n",
       "verification_status                                            Verified   \n",
       "issue_d                                                        Aug-2012   \n",
       "loan_status                                                  Fully Paid   \n",
       "purpose                                              debt_consolidation   \n",
       "title                                                     Loanforpayoff   \n",
       "dti                                                               15.88   \n",
       "earliest_cr_line                                               Nov-1990   \n",
       "open_acc                                                            9.0   \n",
       "pub_rec                                                             0.0   \n",
       "revol_bal                                                       15704.0   \n",
       "revol_util                                                         53.8   \n",
       "total_acc                                                          20.0   \n",
       "initial_list_status                                                   f   \n",
       "application_type                                             INDIVIDUAL   \n",
       "mort_acc                                                            5.0   \n",
       "pub_rec_bankruptcies                                                0.0   \n",
       "address               7843 Blake Freeway Apt. 229\\nNew Michael, FL 2...   \n",
       "\n",
       "                                                           396029  \n",
       "loan_amnt                                                  2000.0  \n",
       "term                                                    36 months  \n",
       "int_rate                                                    13.61  \n",
       "installment                                                 67.98  \n",
       "grade                                                           C  \n",
       "sub_grade                                                      C2  \n",
       "emp_title                                Internal Revenue Service  \n",
       "emp_length                                              10+ years  \n",
       "home_ownership                                               RENT  \n",
       "annual_inc                                                42996.0  \n",
       "verification_status                                      Verified  \n",
       "issue_d                                                  Jun-2010  \n",
       "loan_status                                            Fully Paid  \n",
       "purpose                                        debt_consolidation  \n",
       "title                                           Toxic Debt Payoff  \n",
       "dti                                                          8.32  \n",
       "earliest_cr_line                                         Sep-1998  \n",
       "open_acc                                                      3.0  \n",
       "pub_rec                                                       0.0  \n",
       "revol_bal                                                  4292.0  \n",
       "revol_util                                                   91.3  \n",
       "total_acc                                                    19.0  \n",
       "initial_list_status                                             f  \n",
       "application_type                                       INDIVIDUAL  \n",
       "mort_acc                                                      NaN  \n",
       "pub_rec_bankruptcies                                          0.0  \n",
       "address               787 Michelle Causeway\\nBriannaton, AR 48052  \n",
       "\n",
       "[27 rows x 396030 columns]"
      ]
     },
     "execution_count": 9,
     "metadata": {},
     "output_type": "execute_result"
    }
   ],
   "source": [
    "df.transpose()"
   ]
  },
  {
   "cell_type": "code",
   "execution_count": 10,
   "id": "396e1439",
   "metadata": {},
   "outputs": [
    {
     "data": {
      "text/plain": [
       "'5'"
      ]
     },
     "execution_count": 10,
     "metadata": {},
     "output_type": "execute_result"
    }
   ],
   "source": [
    "df['sub_grade'].loc[1].strip(df['sub_grade'].loc[1][:1])"
   ]
  },
  {
   "cell_type": "code",
   "execution_count": 11,
   "id": "c4363e13",
   "metadata": {},
   "outputs": [],
   "source": [
    "df['sub_grade'] = df['sub_grade'].apply(lambda x: int(x.strip(x[:1])))"
   ]
  },
  {
   "cell_type": "code",
   "execution_count": 12,
   "id": "1f512626",
   "metadata": {},
   "outputs": [
    {
     "data": {
      "text/plain": [
       "array(['INDIVIDUAL', 'JOINT', 'DIRECT_PAY'], dtype=object)"
      ]
     },
     "execution_count": 12,
     "metadata": {},
     "output_type": "execute_result"
    }
   ],
   "source": [
    "df['application_type'].unique()"
   ]
  },
  {
   "cell_type": "code",
   "execution_count": 13,
   "id": "a90abb9d",
   "metadata": {},
   "outputs": [],
   "source": [
    "df_app_type = pd.get_dummies(df['application_type'],drop_first=True)"
   ]
  },
  {
   "cell_type": "code",
   "execution_count": 14,
   "id": "d9b1cc51",
   "metadata": {},
   "outputs": [],
   "source": [
    "df = df.join(df_app_type).drop('application_type',axis=1)"
   ]
  },
  {
   "cell_type": "code",
   "execution_count": 15,
   "id": "a1482078",
   "metadata": {},
   "outputs": [
    {
     "data": {
      "text/html": [
       "<div>\n",
       "<style scoped>\n",
       "    .dataframe tbody tr th:only-of-type {\n",
       "        vertical-align: middle;\n",
       "    }\n",
       "\n",
       "    .dataframe tbody tr th {\n",
       "        vertical-align: top;\n",
       "    }\n",
       "\n",
       "    .dataframe thead th {\n",
       "        text-align: right;\n",
       "    }\n",
       "</style>\n",
       "<table border=\"1\" class=\"dataframe\">\n",
       "  <thead>\n",
       "    <tr style=\"text-align: right;\">\n",
       "      <th></th>\n",
       "      <th>loan_amnt</th>\n",
       "      <th>term</th>\n",
       "      <th>int_rate</th>\n",
       "      <th>installment</th>\n",
       "      <th>grade</th>\n",
       "      <th>sub_grade</th>\n",
       "      <th>emp_title</th>\n",
       "      <th>emp_length</th>\n",
       "      <th>home_ownership</th>\n",
       "      <th>annual_inc</th>\n",
       "      <th>...</th>\n",
       "      <th>pub_rec</th>\n",
       "      <th>revol_bal</th>\n",
       "      <th>revol_util</th>\n",
       "      <th>total_acc</th>\n",
       "      <th>initial_list_status</th>\n",
       "      <th>mort_acc</th>\n",
       "      <th>pub_rec_bankruptcies</th>\n",
       "      <th>address</th>\n",
       "      <th>INDIVIDUAL</th>\n",
       "      <th>JOINT</th>\n",
       "    </tr>\n",
       "  </thead>\n",
       "  <tbody>\n",
       "    <tr>\n",
       "      <th>0</th>\n",
       "      <td>10000.0</td>\n",
       "      <td>36 months</td>\n",
       "      <td>11.44</td>\n",
       "      <td>329.48</td>\n",
       "      <td>B</td>\n",
       "      <td>4</td>\n",
       "      <td>Marketing</td>\n",
       "      <td>10+ years</td>\n",
       "      <td>RENT</td>\n",
       "      <td>117000.0</td>\n",
       "      <td>...</td>\n",
       "      <td>0.0</td>\n",
       "      <td>36369.0</td>\n",
       "      <td>41.8</td>\n",
       "      <td>25.0</td>\n",
       "      <td>w</td>\n",
       "      <td>0.0</td>\n",
       "      <td>0.0</td>\n",
       "      <td>0174 Michelle Gateway\\nMendozaberg, OK 22690</td>\n",
       "      <td>True</td>\n",
       "      <td>False</td>\n",
       "    </tr>\n",
       "    <tr>\n",
       "      <th>1</th>\n",
       "      <td>8000.0</td>\n",
       "      <td>36 months</td>\n",
       "      <td>11.99</td>\n",
       "      <td>265.68</td>\n",
       "      <td>B</td>\n",
       "      <td>5</td>\n",
       "      <td>Credit analyst</td>\n",
       "      <td>4 years</td>\n",
       "      <td>MORTGAGE</td>\n",
       "      <td>65000.0</td>\n",
       "      <td>...</td>\n",
       "      <td>0.0</td>\n",
       "      <td>20131.0</td>\n",
       "      <td>53.3</td>\n",
       "      <td>27.0</td>\n",
       "      <td>f</td>\n",
       "      <td>3.0</td>\n",
       "      <td>0.0</td>\n",
       "      <td>1076 Carney Fort Apt. 347\\nLoganmouth, SD 05113</td>\n",
       "      <td>True</td>\n",
       "      <td>False</td>\n",
       "    </tr>\n",
       "    <tr>\n",
       "      <th>2</th>\n",
       "      <td>15600.0</td>\n",
       "      <td>36 months</td>\n",
       "      <td>10.49</td>\n",
       "      <td>506.97</td>\n",
       "      <td>B</td>\n",
       "      <td>3</td>\n",
       "      <td>Statistician</td>\n",
       "      <td>&lt; 1 year</td>\n",
       "      <td>RENT</td>\n",
       "      <td>43057.0</td>\n",
       "      <td>...</td>\n",
       "      <td>0.0</td>\n",
       "      <td>11987.0</td>\n",
       "      <td>92.2</td>\n",
       "      <td>26.0</td>\n",
       "      <td>f</td>\n",
       "      <td>0.0</td>\n",
       "      <td>0.0</td>\n",
       "      <td>87025 Mark Dale Apt. 269\\nNew Sabrina, WV 05113</td>\n",
       "      <td>True</td>\n",
       "      <td>False</td>\n",
       "    </tr>\n",
       "    <tr>\n",
       "      <th>3</th>\n",
       "      <td>7200.0</td>\n",
       "      <td>36 months</td>\n",
       "      <td>6.49</td>\n",
       "      <td>220.65</td>\n",
       "      <td>A</td>\n",
       "      <td>2</td>\n",
       "      <td>Client Advocate</td>\n",
       "      <td>6 years</td>\n",
       "      <td>RENT</td>\n",
       "      <td>54000.0</td>\n",
       "      <td>...</td>\n",
       "      <td>0.0</td>\n",
       "      <td>5472.0</td>\n",
       "      <td>21.5</td>\n",
       "      <td>13.0</td>\n",
       "      <td>f</td>\n",
       "      <td>0.0</td>\n",
       "      <td>0.0</td>\n",
       "      <td>823 Reid Ford\\nDelacruzside, MA 00813</td>\n",
       "      <td>True</td>\n",
       "      <td>False</td>\n",
       "    </tr>\n",
       "    <tr>\n",
       "      <th>4</th>\n",
       "      <td>24375.0</td>\n",
       "      <td>60 months</td>\n",
       "      <td>17.27</td>\n",
       "      <td>609.33</td>\n",
       "      <td>C</td>\n",
       "      <td>5</td>\n",
       "      <td>Destiny Management Inc.</td>\n",
       "      <td>9 years</td>\n",
       "      <td>MORTGAGE</td>\n",
       "      <td>55000.0</td>\n",
       "      <td>...</td>\n",
       "      <td>0.0</td>\n",
       "      <td>24584.0</td>\n",
       "      <td>69.8</td>\n",
       "      <td>43.0</td>\n",
       "      <td>f</td>\n",
       "      <td>1.0</td>\n",
       "      <td>0.0</td>\n",
       "      <td>679 Luna Roads\\nGreggshire, VA 11650</td>\n",
       "      <td>True</td>\n",
       "      <td>False</td>\n",
       "    </tr>\n",
       "  </tbody>\n",
       "</table>\n",
       "<p>5 rows × 28 columns</p>\n",
       "</div>"
      ],
      "text/plain": [
       "   loan_amnt        term  int_rate  installment grade  sub_grade  \\\n",
       "0    10000.0   36 months     11.44       329.48     B          4   \n",
       "1     8000.0   36 months     11.99       265.68     B          5   \n",
       "2    15600.0   36 months     10.49       506.97     B          3   \n",
       "3     7200.0   36 months      6.49       220.65     A          2   \n",
       "4    24375.0   60 months     17.27       609.33     C          5   \n",
       "\n",
       "                 emp_title emp_length home_ownership  annual_inc  ... pub_rec  \\\n",
       "0                Marketing  10+ years           RENT    117000.0  ...     0.0   \n",
       "1          Credit analyst     4 years       MORTGAGE     65000.0  ...     0.0   \n",
       "2             Statistician   < 1 year           RENT     43057.0  ...     0.0   \n",
       "3          Client Advocate    6 years           RENT     54000.0  ...     0.0   \n",
       "4  Destiny Management Inc.    9 years       MORTGAGE     55000.0  ...     0.0   \n",
       "\n",
       "  revol_bal revol_util total_acc initial_list_status  mort_acc  \\\n",
       "0   36369.0       41.8      25.0                   w       0.0   \n",
       "1   20131.0       53.3      27.0                   f       3.0   \n",
       "2   11987.0       92.2      26.0                   f       0.0   \n",
       "3    5472.0       21.5      13.0                   f       0.0   \n",
       "4   24584.0       69.8      43.0                   f       1.0   \n",
       "\n",
       "  pub_rec_bankruptcies                                          address  \\\n",
       "0                  0.0     0174 Michelle Gateway\\nMendozaberg, OK 22690   \n",
       "1                  0.0  1076 Carney Fort Apt. 347\\nLoganmouth, SD 05113   \n",
       "2                  0.0  87025 Mark Dale Apt. 269\\nNew Sabrina, WV 05113   \n",
       "3                  0.0            823 Reid Ford\\nDelacruzside, MA 00813   \n",
       "4                  0.0             679 Luna Roads\\nGreggshire, VA 11650   \n",
       "\n",
       "   INDIVIDUAL  JOINT  \n",
       "0        True  False  \n",
       "1        True  False  \n",
       "2        True  False  \n",
       "3        True  False  \n",
       "4        True  False  \n",
       "\n",
       "[5 rows x 28 columns]"
      ]
     },
     "execution_count": 15,
     "metadata": {},
     "output_type": "execute_result"
    }
   ],
   "source": [
    "df.head()"
   ]
  },
  {
   "cell_type": "code",
   "execution_count": 16,
   "id": "58758ef3",
   "metadata": {},
   "outputs": [
    {
     "name": "stdout",
     "output_type": "stream",
     "text": [
      "<class 'pandas.core.frame.DataFrame'>\n",
      "RangeIndex: 396030 entries, 0 to 396029\n",
      "Data columns (total 28 columns):\n",
      " #   Column                Non-Null Count   Dtype  \n",
      "---  ------                --------------   -----  \n",
      " 0   loan_amnt             396030 non-null  float64\n",
      " 1   term                  396030 non-null  object \n",
      " 2   int_rate              396030 non-null  float64\n",
      " 3   installment           396030 non-null  float64\n",
      " 4   grade                 396030 non-null  object \n",
      " 5   sub_grade             396030 non-null  int64  \n",
      " 6   emp_title             373103 non-null  object \n",
      " 7   emp_length            377729 non-null  object \n",
      " 8   home_ownership        396030 non-null  object \n",
      " 9   annual_inc            396030 non-null  float64\n",
      " 10  verification_status   396030 non-null  object \n",
      " 11  issue_d               396030 non-null  object \n",
      " 12  loan_status           396030 non-null  object \n",
      " 13  purpose               396030 non-null  object \n",
      " 14  title                 394274 non-null  object \n",
      " 15  dti                   396030 non-null  float64\n",
      " 16  earliest_cr_line      396030 non-null  object \n",
      " 17  open_acc              396030 non-null  float64\n",
      " 18  pub_rec               396030 non-null  float64\n",
      " 19  revol_bal             396030 non-null  float64\n",
      " 20  revol_util            395754 non-null  float64\n",
      " 21  total_acc             396030 non-null  float64\n",
      " 22  initial_list_status   396030 non-null  object \n",
      " 23  mort_acc              358235 non-null  float64\n",
      " 24  pub_rec_bankruptcies  395495 non-null  float64\n",
      " 25  address               396030 non-null  object \n",
      " 26  INDIVIDUAL            396030 non-null  bool   \n",
      " 27  JOINT                 396030 non-null  bool   \n",
      "dtypes: bool(2), float64(12), int64(1), object(13)\n",
      "memory usage: 79.3+ MB\n"
     ]
    }
   ],
   "source": [
    "df.info()"
   ]
  },
  {
   "cell_type": "code",
   "execution_count": 17,
   "id": "a576a449",
   "metadata": {},
   "outputs": [],
   "source": [
    "#data_info.loc['initial_list_status']['Description']"
   ]
  },
  {
   "cell_type": "code",
   "execution_count": 18,
   "id": "4df34e3d",
   "metadata": {},
   "outputs": [],
   "source": [
    "#df['initial_list_status'].unique()"
   ]
  },
  {
   "cell_type": "code",
   "execution_count": 19,
   "id": "d0eded1b",
   "metadata": {},
   "outputs": [],
   "source": [
    "#df[df['initial_list_status']=='w']['loan_status'].value_counts()"
   ]
  },
  {
   "cell_type": "code",
   "execution_count": 20,
   "id": "a996281f",
   "metadata": {},
   "outputs": [],
   "source": [
    "#df = df.drop(columns=['initial_list_status']) "
   ]
  },
  {
   "cell_type": "code",
   "execution_count": 21,
   "id": "a2ccbefa",
   "metadata": {},
   "outputs": [],
   "source": [
    "df_purpose = pd.get_dummies(df['purpose'],drop_first=True)"
   ]
  },
  {
   "cell_type": "code",
   "execution_count": 22,
   "id": "83517204",
   "metadata": {},
   "outputs": [],
   "source": [
    "df = df.join(df_purpose).drop(columns=['purpose'])"
   ]
  },
  {
   "cell_type": "code",
   "execution_count": 23,
   "id": "49ca94ab",
   "metadata": {},
   "outputs": [],
   "source": [
    "#df['verification_status'].unique()"
   ]
  },
  {
   "cell_type": "code",
   "execution_count": 24,
   "id": "eb1d3254",
   "metadata": {},
   "outputs": [
    {
     "data": {
      "text/plain": [
       "<Axes: xlabel='grade'>"
      ]
     },
     "execution_count": 24,
     "metadata": {},
     "output_type": "execute_result"
    },
    {
     "data": {
      "image/png": "[encoded data removed]",
      "text/plain": [
       "<Figure size 640x480 with 1 Axes>"
      ]
     },
     "metadata": {},
     "output_type": "display_data"
    }
   ],
   "source": [
    "df.groupby('grade').count()['sub_grade'].plot(kind='bar')"
   ]
  },
  {
   "cell_type": "code",
   "execution_count": null,
   "id": "1fc33b49",
   "metadata": {},
   "outputs": [],
   "source": []
  },
  {
   "cell_type": "code",
   "execution_count": null,
   "id": "a3a1f26f",
   "metadata": {},
   "outputs": [],
   "source": []
  },
  {
   "cell_type": "code",
   "execution_count": 25,
   "id": "6724a89a",
   "metadata": {},
   "outputs": [],
   "source": [
    "#df_for_model = df[['loan_amnt','term','int_rate','grade','emp_length','home_ownership','annual_inc','dti','revol_util','mort_acc','loan_status']]"
   ]
  },
  {
   "cell_type": "code",
   "execution_count": 26,
   "id": "9be02841",
   "metadata": {},
   "outputs": [],
   "source": [
    "#df_for_model.head()"
   ]
  },
  {
   "cell_type": "code",
   "execution_count": null,
   "id": "57216bdf",
   "metadata": {},
   "outputs": [],
   "source": []
  },
  {
   "cell_type": "code",
   "execution_count": 27,
   "id": "437b85a0",
   "metadata": {},
   "outputs": [],
   "source": [
    "#df_for_model['loan_status'] = df_for_model['loan_status'].map({'Charged Off':1,'Fully Paid':0})"
   ]
  },
  {
   "cell_type": "code",
   "execution_count": 28,
   "id": "dfd4a1cc",
   "metadata": {},
   "outputs": [],
   "source": [
    "df_source = pd.get_dummies(df['verification_status'],drop_first=True)"
   ]
  },
  {
   "cell_type": "code",
   "execution_count": 29,
   "id": "775345ff",
   "metadata": {},
   "outputs": [],
   "source": [
    "df = df.join(df_source).drop(columns=['verification_status'])"
   ]
  },
  {
   "cell_type": "code",
   "execution_count": 30,
   "id": "c9bf6ea8",
   "metadata": {},
   "outputs": [],
   "source": [
    "# df.groupby(Verified).count()"
   ]
  },
  {
   "cell_type": "code",
   "execution_count": 31,
   "id": "207204fa",
   "metadata": {},
   "outputs": [],
   "source": [
    "#df['home_ownership'].unique()"
   ]
  },
  {
   "cell_type": "code",
   "execution_count": 32,
   "id": "d48a7570",
   "metadata": {},
   "outputs": [],
   "source": [
    "df_home_ownership = pd.get_dummies(df['home_ownership'],drop_first=True)\n",
    "df = df.join(df_home_ownership).drop(columns=['home_ownership'])"
   ]
  },
  {
   "cell_type": "code",
   "execution_count": null,
   "id": "514a4b04",
   "metadata": {},
   "outputs": [],
   "source": []
  },
  {
   "cell_type": "code",
   "execution_count": null,
   "id": "2b6c5aea",
   "metadata": {},
   "outputs": [],
   "source": []
  },
  {
   "cell_type": "code",
   "execution_count": 33,
   "id": "502329c7",
   "metadata": {},
   "outputs": [],
   "source": [
    "#df_for_model = df_for_model.join(df_home_ownership).drop(columns=['home_ownership'])"
   ]
  },
  {
   "cell_type": "code",
   "execution_count": 34,
   "id": "16a23490",
   "metadata": {},
   "outputs": [],
   "source": [
    "#df_for_model['emp_length'] = df_for_model['emp_length'].map({'1 year':1,'2 years':2,'3 years':3,'4 years':4,'5 years':5,'6 years':6,\n",
    "#                                        '7 years':7,'8 years':8,'9 years':9,'10+ years':10,'< 1 year':0.5})"
   ]
  },
  {
   "cell_type": "code",
   "execution_count": null,
   "id": "e96a5ebe",
   "metadata": {},
   "outputs": [],
   "source": []
  },
  {
   "cell_type": "code",
   "execution_count": 35,
   "id": "fa26cdb0",
   "metadata": {},
   "outputs": [],
   "source": [
    "df['emp_length'] = df['emp_length'].map({'1 year':1,'2 years':2,'3 years':3,'4 years':4,'5 years':5,'6 years':6,\n",
    "                                        '7 years':7,'8 years':8,'9 years':9,'10+ years':10,'< 1 year':0.5})"
   ]
  },
  {
   "cell_type": "code",
   "execution_count": 36,
   "id": "46c87963",
   "metadata": {},
   "outputs": [
    {
     "data": {
      "text/plain": [
       "'7843 Blake Freeway Apt. 229\\nNew Michael, FL 29597'"
      ]
     },
     "execution_count": 36,
     "metadata": {},
     "output_type": "execute_result"
    }
   ],
   "source": [
    "df['address'].loc[396028]\n"
   ]
  },
  {
   "cell_type": "code",
   "execution_count": 37,
   "id": "08a9833f",
   "metadata": {},
   "outputs": [],
   "source": [
    "df['ZIP_code'] = df['address'].apply(lambda x: int(x[-5:]))"
   ]
  },
  {
   "cell_type": "code",
   "execution_count": 38,
   "id": "193842e5",
   "metadata": {},
   "outputs": [],
   "source": [
    "#df_for_model['ZIP_code'] = df['ZIP_code']"
   ]
  },
  {
   "cell_type": "code",
   "execution_count": 39,
   "id": "b1851505",
   "metadata": {},
   "outputs": [],
   "source": [
    "#df.groupby('ZIP_code').agg('count')"
   ]
  },
  {
   "cell_type": "code",
   "execution_count": 40,
   "id": "6741ea5b",
   "metadata": {},
   "outputs": [],
   "source": [
    "df_zip = pd.get_dummies(df['ZIP_code'],prefix='Zip',drop_first=True)"
   ]
  },
  {
   "cell_type": "code",
   "execution_count": 41,
   "id": "a1eb58f4",
   "metadata": {},
   "outputs": [],
   "source": [
    "df = df.join(df_zip).drop(columns=['ZIP_code'])"
   ]
  },
  {
   "cell_type": "code",
   "execution_count": 42,
   "id": "6b4b718a",
   "metadata": {},
   "outputs": [
    {
     "data": {
      "text/html": [
       "<div>\n",
       "<style scoped>\n",
       "    .dataframe tbody tr th:only-of-type {\n",
       "        vertical-align: middle;\n",
       "    }\n",
       "\n",
       "    .dataframe tbody tr th {\n",
       "        vertical-align: top;\n",
       "    }\n",
       "\n",
       "    .dataframe thead th {\n",
       "        text-align: right;\n",
       "    }\n",
       "</style>\n",
       "<table border=\"1\" class=\"dataframe\">\n",
       "  <thead>\n",
       "    <tr style=\"text-align: right;\">\n",
       "      <th></th>\n",
       "      <th>loan_amnt</th>\n",
       "      <th>term</th>\n",
       "      <th>int_rate</th>\n",
       "      <th>installment</th>\n",
       "      <th>grade</th>\n",
       "      <th>sub_grade</th>\n",
       "      <th>emp_title</th>\n",
       "      <th>emp_length</th>\n",
       "      <th>annual_inc</th>\n",
       "      <th>issue_d</th>\n",
       "      <th>...</th>\n",
       "      <th>RENT</th>\n",
       "      <th>Zip_5113</th>\n",
       "      <th>Zip_11650</th>\n",
       "      <th>Zip_22690</th>\n",
       "      <th>Zip_29597</th>\n",
       "      <th>Zip_30723</th>\n",
       "      <th>Zip_48052</th>\n",
       "      <th>Zip_70466</th>\n",
       "      <th>Zip_86630</th>\n",
       "      <th>Zip_93700</th>\n",
       "    </tr>\n",
       "  </thead>\n",
       "  <tbody>\n",
       "    <tr>\n",
       "      <th>0</th>\n",
       "      <td>10000.0</td>\n",
       "      <td>36 months</td>\n",
       "      <td>11.44</td>\n",
       "      <td>329.48</td>\n",
       "      <td>B</td>\n",
       "      <td>4</td>\n",
       "      <td>Marketing</td>\n",
       "      <td>10.0</td>\n",
       "      <td>117000.0</td>\n",
       "      <td>Jan-2015</td>\n",
       "      <td>...</td>\n",
       "      <td>True</td>\n",
       "      <td>False</td>\n",
       "      <td>False</td>\n",
       "      <td>True</td>\n",
       "      <td>False</td>\n",
       "      <td>False</td>\n",
       "      <td>False</td>\n",
       "      <td>False</td>\n",
       "      <td>False</td>\n",
       "      <td>False</td>\n",
       "    </tr>\n",
       "    <tr>\n",
       "      <th>1</th>\n",
       "      <td>8000.0</td>\n",
       "      <td>36 months</td>\n",
       "      <td>11.99</td>\n",
       "      <td>265.68</td>\n",
       "      <td>B</td>\n",
       "      <td>5</td>\n",
       "      <td>Credit analyst</td>\n",
       "      <td>4.0</td>\n",
       "      <td>65000.0</td>\n",
       "      <td>Jan-2015</td>\n",
       "      <td>...</td>\n",
       "      <td>False</td>\n",
       "      <td>True</td>\n",
       "      <td>False</td>\n",
       "      <td>False</td>\n",
       "      <td>False</td>\n",
       "      <td>False</td>\n",
       "      <td>False</td>\n",
       "      <td>False</td>\n",
       "      <td>False</td>\n",
       "      <td>False</td>\n",
       "    </tr>\n",
       "  </tbody>\n",
       "</table>\n",
       "<p>2 rows × 54 columns</p>\n",
       "</div>"
      ],
      "text/plain": [
       "   loan_amnt        term  int_rate  installment grade  sub_grade  \\\n",
       "0    10000.0   36 months     11.44       329.48     B          4   \n",
       "1     8000.0   36 months     11.99       265.68     B          5   \n",
       "\n",
       "         emp_title  emp_length  annual_inc   issue_d  ...   RENT Zip_5113  \\\n",
       "0        Marketing        10.0    117000.0  Jan-2015  ...   True    False   \n",
       "1  Credit analyst          4.0     65000.0  Jan-2015  ...  False     True   \n",
       "\n",
       "   Zip_11650 Zip_22690  Zip_29597  Zip_30723  Zip_48052  Zip_70466  Zip_86630  \\\n",
       "0      False      True      False      False      False      False      False   \n",
       "1      False     False      False      False      False      False      False   \n",
       "\n",
       "  Zip_93700  \n",
       "0     False  \n",
       "1     False  \n",
       "\n",
       "[2 rows x 54 columns]"
      ]
     },
     "execution_count": 42,
     "metadata": {},
     "output_type": "execute_result"
    }
   ],
   "source": [
    "df.head(2)"
   ]
  },
  {
   "cell_type": "code",
   "execution_count": 43,
   "id": "27dd09ea",
   "metadata": {},
   "outputs": [],
   "source": [
    "#data_info.loc['dti']['Description']"
   ]
  },
  {
   "cell_type": "code",
   "execution_count": 44,
   "id": "8929d24d",
   "metadata": {},
   "outputs": [],
   "source": [
    "#data_info.loc['sub_grade']['Description']"
   ]
  },
  {
   "cell_type": "code",
   "execution_count": 45,
   "id": "ed0ec285",
   "metadata": {},
   "outputs": [],
   "source": [
    "df['grade'] = df['grade'].map({'A':1,'B':2,'C':3,'D':4,'E':5,'F':6,'G':7})\n",
    "df['term'] = df['term'].map({' 36 months':36,' 60 months':60})"
   ]
  },
  {
   "cell_type": "code",
   "execution_count": 46,
   "id": "c57c79e5",
   "metadata": {},
   "outputs": [],
   "source": [
    "#df_for_model['grade'] = df_for_model['grade'].map({'A':1,'B':2,'C':3,'D':4,'E':5,'F':6,'G':7})"
   ]
  },
  {
   "cell_type": "code",
   "execution_count": 47,
   "id": "8e6d8f04",
   "metadata": {},
   "outputs": [],
   "source": [
    "#df_for_model['term'] = df_for_model['term'].map({' 36 months':36,' 60 months':60})"
   ]
  },
  {
   "cell_type": "code",
   "execution_count": 48,
   "id": "e623af25",
   "metadata": {},
   "outputs": [],
   "source": [
    "#df_for_model['term'].unique()"
   ]
  },
  {
   "cell_type": "code",
   "execution_count": 49,
   "id": "ce1be670",
   "metadata": {},
   "outputs": [],
   "source": [
    "#df.groupby('loan_status')['term'].count()"
   ]
  },
  {
   "cell_type": "code",
   "execution_count": 50,
   "id": "532ef4b9",
   "metadata": {},
   "outputs": [],
   "source": [
    "#df_for_model['loan_status'].value_counts()"
   ]
  },
  {
   "cell_type": "code",
   "execution_count": 51,
   "id": "e63a09e4",
   "metadata": {},
   "outputs": [
    {
     "name": "stderr",
     "output_type": "stream",
     "text": [
      "/var/folders/4z/s5yytqj535948_tn28lrcsr40000gn/T/ipykernel_44888/3004380484.py:1: UserWarning: Could not infer format, so each element will be parsed individually, falling back to `dateutil`. To ensure parsing is consistent and as-expected, please specify a format.\n",
      "  df['issue_d'] = pd.to_datetime(df['issue_d'])\n"
     ]
    }
   ],
   "source": [
    "df['issue_d'] = pd.to_datetime(df['issue_d'])"
   ]
  },
  {
   "cell_type": "code",
   "execution_count": 52,
   "id": "308eb994",
   "metadata": {},
   "outputs": [
    {
     "name": "stderr",
     "output_type": "stream",
     "text": [
      "/var/folders/4z/s5yytqj535948_tn28lrcsr40000gn/T/ipykernel_44888/2066518133.py:1: UserWarning: Could not infer format, so each element will be parsed individually, falling back to `dateutil`. To ensure parsing is consistent and as-expected, please specify a format.\n",
      "  df['earliest_cr_line'] = pd.to_datetime(df['earliest_cr_line'])\n"
     ]
    }
   ],
   "source": [
    "df['earliest_cr_line'] = pd.to_datetime(df['earliest_cr_line'])"
   ]
  },
  {
   "cell_type": "code",
   "execution_count": 53,
   "id": "d0dc35c6",
   "metadata": {},
   "outputs": [],
   "source": [
    "df['borrowing_experience'] = df['issue_d'] - df['earliest_cr_line']"
   ]
  },
  {
   "cell_type": "code",
   "execution_count": 54,
   "id": "52220218",
   "metadata": {},
   "outputs": [],
   "source": [
    "#data_info.loc['issue_d']['Description']"
   ]
  },
  {
   "cell_type": "code",
   "execution_count": 55,
   "id": "6c99fcdb",
   "metadata": {},
   "outputs": [],
   "source": [
    "#data_info.loc['title']['Description']"
   ]
  },
  {
   "cell_type": "code",
   "execution_count": 56,
   "id": "fcaaaf5c",
   "metadata": {},
   "outputs": [],
   "source": [
    "df = df.drop(columns=['emp_title','issue_d','title','earliest_cr_line'])"
   ]
  },
  {
   "cell_type": "code",
   "execution_count": 57,
   "id": "32573158",
   "metadata": {},
   "outputs": [],
   "source": [
    "#df.transpose()"
   ]
  },
  {
   "cell_type": "code",
   "execution_count": 58,
   "id": "d621c78b",
   "metadata": {},
   "outputs": [],
   "source": [
    "#df.drop(columns=['address']).corr()['loan_status'].sort_values()"
   ]
  },
  {
   "cell_type": "code",
   "execution_count": 59,
   "id": "c3d0e523",
   "metadata": {},
   "outputs": [],
   "source": [
    "import datetime as dt\n",
    "df['borrowing_experience'] = df['borrowing_experience'].dt.days"
   ]
  },
  {
   "cell_type": "code",
   "execution_count": 60,
   "id": "d28aef68",
   "metadata": {},
   "outputs": [],
   "source": [
    "#plt.figure(figsize=(10,6))\n",
    "#sns.heatmap(df.corr())"
   ]
  },
  {
   "cell_type": "code",
   "execution_count": 61,
   "id": "be612240",
   "metadata": {},
   "outputs": [],
   "source": [
    "#type(df['borrowing_experience'][0])"
   ]
  },
  {
   "cell_type": "code",
   "execution_count": 62,
   "id": "ab0a25c1",
   "metadata": {},
   "outputs": [],
   "source": [
    "#df_for_model.duplicated().sum()"
   ]
  },
  {
   "cell_type": "code",
   "execution_count": 63,
   "id": "f70739bf",
   "metadata": {},
   "outputs": [],
   "source": [
    "#df_for_model.isnull().sum()"
   ]
  },
  {
   "cell_type": "code",
   "execution_count": 64,
   "id": "0233a3cb",
   "metadata": {},
   "outputs": [],
   "source": [
    "#df_for_model['emp_length'] = df_for_model['emp_length'].fillna(df_for_model['emp_length'].median())"
   ]
  },
  {
   "cell_type": "code",
   "execution_count": 65,
   "id": "36aced76",
   "metadata": {},
   "outputs": [],
   "source": [
    "df['emp_length'] = df['emp_length'].fillna(df['emp_length'].median())"
   ]
  },
  {
   "cell_type": "code",
   "execution_count": 66,
   "id": "caefcac6",
   "metadata": {},
   "outputs": [],
   "source": [
    "df['revol_util'] = df['revol_util'].fillna(df['revol_util'].median())"
   ]
  },
  {
   "cell_type": "code",
   "execution_count": 67,
   "id": "1b0d8885",
   "metadata": {},
   "outputs": [],
   "source": [
    "#df_for_model['mort_acc'] = df_for_model['mort_acc'].fillna(df_for_model['mort_acc'].median())"
   ]
  },
  {
   "cell_type": "code",
   "execution_count": 68,
   "id": "124b1c2a",
   "metadata": {},
   "outputs": [],
   "source": [
    "df['mort_acc'] = df['mort_acc'].fillna(df['mort_acc'].median())"
   ]
  },
  {
   "cell_type": "code",
   "execution_count": 69,
   "id": "03532463",
   "metadata": {},
   "outputs": [],
   "source": [
    "df['pub_rec_bankruptcies'] = df['pub_rec_bankruptcies'].fillna(df['pub_rec_bankruptcies'].median())"
   ]
  },
  {
   "cell_type": "code",
   "execution_count": 70,
   "id": "774263bf",
   "metadata": {},
   "outputs": [
    {
     "data": {
      "text/plain": [
       "loan_amnt               0\n",
       "term                    0\n",
       "int_rate                0\n",
       "installment             0\n",
       "grade                   0\n",
       "sub_grade               0\n",
       "emp_length              0\n",
       "annual_inc              0\n",
       "loan_status             0\n",
       "dti                     0\n",
       "open_acc                0\n",
       "pub_rec                 0\n",
       "revol_bal               0\n",
       "revol_util              0\n",
       "total_acc               0\n",
       "initial_list_status     0\n",
       "mort_acc                0\n",
       "pub_rec_bankruptcies    0\n",
       "address                 0\n",
       "INDIVIDUAL              0\n",
       "JOINT                   0\n",
       "credit_card             0\n",
       "debt_consolidation      0\n",
       "educational             0\n",
       "home_improvement        0\n",
       "house                   0\n",
       "major_purchase          0\n",
       "medical                 0\n",
       "moving                  0\n",
       "other                   0\n",
       "renewable_energy        0\n",
       "small_business          0\n",
       "vacation                0\n",
       "wedding                 0\n",
       "Source Verified         0\n",
       "Verified                0\n",
       "MORTGAGE                0\n",
       "NONE                    0\n",
       "OTHER                   0\n",
       "OWN                     0\n",
       "RENT                    0\n",
       "Zip_5113                0\n",
       "Zip_11650               0\n",
       "Zip_22690               0\n",
       "Zip_29597               0\n",
       "Zip_30723               0\n",
       "Zip_48052               0\n",
       "Zip_70466               0\n",
       "Zip_86630               0\n",
       "Zip_93700               0\n",
       "borrowing_experience    0\n",
       "dtype: int64"
      ]
     },
     "execution_count": 70,
     "metadata": {},
     "output_type": "execute_result"
    }
   ],
   "source": [
    "df.isnull().sum()"
   ]
  },
  {
   "cell_type": "code",
   "execution_count": 71,
   "id": "a9c12d63",
   "metadata": {},
   "outputs": [
    {
     "data": {
      "text/html": [
       "<div>\n",
       "<style scoped>\n",
       "    .dataframe tbody tr th:only-of-type {\n",
       "        vertical-align: middle;\n",
       "    }\n",
       "\n",
       "    .dataframe tbody tr th {\n",
       "        vertical-align: top;\n",
       "    }\n",
       "\n",
       "    .dataframe thead th {\n",
       "        text-align: right;\n",
       "    }\n",
       "</style>\n",
       "<table border=\"1\" class=\"dataframe\">\n",
       "  <thead>\n",
       "    <tr style=\"text-align: right;\">\n",
       "      <th></th>\n",
       "      <th>loan_amnt</th>\n",
       "      <th>term</th>\n",
       "      <th>int_rate</th>\n",
       "      <th>installment</th>\n",
       "      <th>grade</th>\n",
       "      <th>sub_grade</th>\n",
       "      <th>emp_length</th>\n",
       "      <th>annual_inc</th>\n",
       "      <th>loan_status</th>\n",
       "      <th>dti</th>\n",
       "      <th>...</th>\n",
       "      <th>Zip_5113</th>\n",
       "      <th>Zip_11650</th>\n",
       "      <th>Zip_22690</th>\n",
       "      <th>Zip_29597</th>\n",
       "      <th>Zip_30723</th>\n",
       "      <th>Zip_48052</th>\n",
       "      <th>Zip_70466</th>\n",
       "      <th>Zip_86630</th>\n",
       "      <th>Zip_93700</th>\n",
       "      <th>borrowing_experience</th>\n",
       "    </tr>\n",
       "  </thead>\n",
       "  <tbody>\n",
       "    <tr>\n",
       "      <th>0</th>\n",
       "      <td>10000.0</td>\n",
       "      <td>36</td>\n",
       "      <td>11.44</td>\n",
       "      <td>329.48</td>\n",
       "      <td>2</td>\n",
       "      <td>4</td>\n",
       "      <td>10.0</td>\n",
       "      <td>117000.0</td>\n",
       "      <td>Fully Paid</td>\n",
       "      <td>26.24</td>\n",
       "      <td>...</td>\n",
       "      <td>False</td>\n",
       "      <td>False</td>\n",
       "      <td>True</td>\n",
       "      <td>False</td>\n",
       "      <td>False</td>\n",
       "      <td>False</td>\n",
       "      <td>False</td>\n",
       "      <td>False</td>\n",
       "      <td>False</td>\n",
       "      <td>8980</td>\n",
       "    </tr>\n",
       "    <tr>\n",
       "      <th>1</th>\n",
       "      <td>8000.0</td>\n",
       "      <td>36</td>\n",
       "      <td>11.99</td>\n",
       "      <td>265.68</td>\n",
       "      <td>2</td>\n",
       "      <td>5</td>\n",
       "      <td>4.0</td>\n",
       "      <td>65000.0</td>\n",
       "      <td>Fully Paid</td>\n",
       "      <td>22.05</td>\n",
       "      <td>...</td>\n",
       "      <td>True</td>\n",
       "      <td>False</td>\n",
       "      <td>False</td>\n",
       "      <td>False</td>\n",
       "      <td>False</td>\n",
       "      <td>False</td>\n",
       "      <td>False</td>\n",
       "      <td>False</td>\n",
       "      <td>False</td>\n",
       "      <td>3836</td>\n",
       "    </tr>\n",
       "    <tr>\n",
       "      <th>2</th>\n",
       "      <td>15600.0</td>\n",
       "      <td>36</td>\n",
       "      <td>10.49</td>\n",
       "      <td>506.97</td>\n",
       "      <td>2</td>\n",
       "      <td>3</td>\n",
       "      <td>0.5</td>\n",
       "      <td>43057.0</td>\n",
       "      <td>Fully Paid</td>\n",
       "      <td>12.79</td>\n",
       "      <td>...</td>\n",
       "      <td>True</td>\n",
       "      <td>False</td>\n",
       "      <td>False</td>\n",
       "      <td>False</td>\n",
       "      <td>False</td>\n",
       "      <td>False</td>\n",
       "      <td>False</td>\n",
       "      <td>False</td>\n",
       "      <td>False</td>\n",
       "      <td>2710</td>\n",
       "    </tr>\n",
       "    <tr>\n",
       "      <th>3</th>\n",
       "      <td>7200.0</td>\n",
       "      <td>36</td>\n",
       "      <td>6.49</td>\n",
       "      <td>220.65</td>\n",
       "      <td>1</td>\n",
       "      <td>2</td>\n",
       "      <td>6.0</td>\n",
       "      <td>54000.0</td>\n",
       "      <td>Fully Paid</td>\n",
       "      <td>2.60</td>\n",
       "      <td>...</td>\n",
       "      <td>False</td>\n",
       "      <td>False</td>\n",
       "      <td>False</td>\n",
       "      <td>False</td>\n",
       "      <td>False</td>\n",
       "      <td>False</td>\n",
       "      <td>False</td>\n",
       "      <td>False</td>\n",
       "      <td>False</td>\n",
       "      <td>2983</td>\n",
       "    </tr>\n",
       "    <tr>\n",
       "      <th>4</th>\n",
       "      <td>24375.0</td>\n",
       "      <td>60</td>\n",
       "      <td>17.27</td>\n",
       "      <td>609.33</td>\n",
       "      <td>3</td>\n",
       "      <td>5</td>\n",
       "      <td>9.0</td>\n",
       "      <td>55000.0</td>\n",
       "      <td>Charged Off</td>\n",
       "      <td>33.95</td>\n",
       "      <td>...</td>\n",
       "      <td>False</td>\n",
       "      <td>True</td>\n",
       "      <td>False</td>\n",
       "      <td>False</td>\n",
       "      <td>False</td>\n",
       "      <td>False</td>\n",
       "      <td>False</td>\n",
       "      <td>False</td>\n",
       "      <td>False</td>\n",
       "      <td>5145</td>\n",
       "    </tr>\n",
       "  </tbody>\n",
       "</table>\n",
       "<p>5 rows × 51 columns</p>\n",
       "</div>"
      ],
      "text/plain": [
       "   loan_amnt  term  int_rate  installment  grade  sub_grade  emp_length  \\\n",
       "0    10000.0    36     11.44       329.48      2          4        10.0   \n",
       "1     8000.0    36     11.99       265.68      2          5         4.0   \n",
       "2    15600.0    36     10.49       506.97      2          3         0.5   \n",
       "3     7200.0    36      6.49       220.65      1          2         6.0   \n",
       "4    24375.0    60     17.27       609.33      3          5         9.0   \n",
       "\n",
       "   annual_inc  loan_status    dti  ...  Zip_5113  Zip_11650  Zip_22690  \\\n",
       "0    117000.0   Fully Paid  26.24  ...     False      False       True   \n",
       "1     65000.0   Fully Paid  22.05  ...      True      False      False   \n",
       "2     43057.0   Fully Paid  12.79  ...      True      False      False   \n",
       "3     54000.0   Fully Paid   2.60  ...     False      False      False   \n",
       "4     55000.0  Charged Off  33.95  ...     False       True      False   \n",
       "\n",
       "   Zip_29597  Zip_30723 Zip_48052  Zip_70466  Zip_86630 Zip_93700  \\\n",
       "0      False      False     False      False      False     False   \n",
       "1      False      False     False      False      False     False   \n",
       "2      False      False     False      False      False     False   \n",
       "3      False      False     False      False      False     False   \n",
       "4      False      False     False      False      False     False   \n",
       "\n",
       "   borrowing_experience  \n",
       "0                  8980  \n",
       "1                  3836  \n",
       "2                  2710  \n",
       "3                  2983  \n",
       "4                  5145  \n",
       "\n",
       "[5 rows x 51 columns]"
      ]
     },
     "execution_count": 71,
     "metadata": {},
     "output_type": "execute_result"
    }
   ],
   "source": [
    "df.head()"
   ]
  },
  {
   "cell_type": "code",
   "execution_count": 72,
   "id": "ee8b1034",
   "metadata": {},
   "outputs": [],
   "source": [
    "df_init_list = pd.get_dummies(df['initial_list_status'],drop_first=True)\n",
    "df = df.join(df_init_list).drop(columns=['initial_list_status'])"
   ]
  },
  {
   "cell_type": "code",
   "execution_count": 73,
   "id": "b8ef2581",
   "metadata": {},
   "outputs": [],
   "source": [
    "#df_for_model.isnull().sum()"
   ]
  },
  {
   "cell_type": "code",
   "execution_count": 74,
   "id": "78c49fc5",
   "metadata": {},
   "outputs": [],
   "source": [
    "#df_for_model = df_for_model.dropna()"
   ]
  },
  {
   "cell_type": "code",
   "execution_count": 75,
   "id": "52f2be50",
   "metadata": {},
   "outputs": [],
   "source": [
    "#df_for_model.isnull().sum()"
   ]
  },
  {
   "cell_type": "code",
   "execution_count": 76,
   "id": "a66727a6",
   "metadata": {},
   "outputs": [],
   "source": [
    "#df_for_model.transpose()"
   ]
  },
  {
   "cell_type": "code",
   "execution_count": 77,
   "id": "663a44c6",
   "metadata": {},
   "outputs": [
    {
     "data": {
      "text/plain": [
       "<Axes: xlabel='loan_status', ylabel='count'>"
      ]
     },
     "execution_count": 77,
     "metadata": {},
     "output_type": "execute_result"
    },
    {
     "data": {
      "image/png": "[encoded data removed]",
      "text/plain": [
       "<Figure size 640x480 with 1 Axes>"
      ]
     },
     "metadata": {},
     "output_type": "display_data"
    }
   ],
   "source": [
    "sns.countplot(x='loan_status',data=df)"
   ]
  },
  {
   "cell_type": "code",
   "execution_count": 78,
   "id": "3499de21",
   "metadata": {},
   "outputs": [
    {
     "data": {
      "text/plain": [
       "loan_status\n",
       "Fully Paid     0.803871\n",
       "Charged Off    0.196129\n",
       "Name: count, dtype: float64"
      ]
     },
     "execution_count": 78,
     "metadata": {},
     "output_type": "execute_result"
    }
   ],
   "source": [
    "df['loan_status'].value_counts()/len(df)"
   ]
  },
  {
   "cell_type": "code",
   "execution_count": 79,
   "id": "0f82fba2",
   "metadata": {},
   "outputs": [
    {
     "data": {
      "text/plain": [
       "<Axes: xlabel='loan_amnt', ylabel='Count'>"
      ]
     },
     "execution_count": 79,
     "metadata": {},
     "output_type": "execute_result"
    },
    {
     "data": {
      "image/png": "[encoded data removed]",
      "text/plain": [
       "<Figure size 1000x600 with 1 Axes>"
      ]
     },
     "metadata": {},
     "output_type": "display_data"
    }
   ],
   "source": [
    "plt.figure(figsize=(10,6))\n",
    "sns.histplot(df['loan_amnt'],kde=False,bins=40)"
   ]
  },
  {
   "cell_type": "code",
   "execution_count": 80,
   "id": "56bb2510",
   "metadata": {},
   "outputs": [],
   "source": [
    "#sns.scatterplot(y='installment',x='loan_amnt',data=df)"
   ]
  },
  {
   "cell_type": "code",
   "execution_count": 81,
   "id": "66ad9c0b",
   "metadata": {},
   "outputs": [
    {
     "data": {
      "text/plain": [
       "<Axes: xlabel='loan_status', ylabel='loan_amnt'>"
      ]
     },
     "execution_count": 81,
     "metadata": {},
     "output_type": "execute_result"
    },
    {
     "data": {
      "image/png": "[encoded data removed]",
      "text/plain": [
       "<Figure size 640x480 with 1 Axes>"
      ]
     },
     "metadata": {},
     "output_type": "display_data"
    }
   ],
   "source": [
    "sns.boxplot(x='loan_status',y='loan_amnt',data=df)"
   ]
  },
  {
   "cell_type": "code",
   "execution_count": 82,
   "id": "1f7bd151",
   "metadata": {},
   "outputs": [
    {
     "data": {
      "text/plain": [
       "count    396030.000000\n",
       "mean      14113.888089\n",
       "std        8357.441341\n",
       "min         500.000000\n",
       "25%        8000.000000\n",
       "50%       12000.000000\n",
       "75%       20000.000000\n",
       "max       40000.000000\n",
       "Name: loan_amnt, dtype: float64"
      ]
     },
     "execution_count": 82,
     "metadata": {},
     "output_type": "execute_result"
    }
   ],
   "source": [
    "df['loan_amnt'].describe()"
   ]
  },
  {
   "cell_type": "code",
   "execution_count": 83,
   "id": "1db582dc",
   "metadata": {},
   "outputs": [
    {
     "data": {
      "text/plain": [
       "<Axes: xlabel='loan_status', ylabel='loan_amnt'>"
      ]
     },
     "execution_count": 83,
     "metadata": {},
     "output_type": "execute_result"
    },
    {
     "data": {
      "image/png": "[encoded data removed]",
      "text/plain": [
       "<Figure size 640x480 with 1 Axes>"
      ]
     },
     "metadata": {},
     "output_type": "display_data"
    }
   ],
   "source": [
    "import seaborn as sns\n",
    "sns.scatterplot(data=df[['loan_amnt','loan_status']],x='loan_status',y='loan_amnt')"
   ]
  },
  {
   "cell_type": "code",
   "execution_count": 84,
   "id": "dce7025f",
   "metadata": {},
   "outputs": [],
   "source": [
    "df['loan_status'] = df['loan_status'].map({'Charged Off':1,'Fully Paid':0})"
   ]
  },
  {
   "cell_type": "code",
   "execution_count": 85,
   "id": "53fc452c",
   "metadata": {},
   "outputs": [],
   "source": [
    "df.drop(columns=['address'],inplace=True)"
   ]
  },
  {
   "cell_type": "code",
   "execution_count": 86,
   "id": "98e51f61",
   "metadata": {},
   "outputs": [],
   "source": [
    "df_model = df.sample(int(len(df)*0.1))"
   ]
  },
  {
   "cell_type": "code",
   "execution_count": 87,
   "id": "4593b70c",
   "metadata": {},
   "outputs": [
    {
     "data": {
      "text/plain": [
       "(39603, 50)"
      ]
     },
     "execution_count": 87,
     "metadata": {},
     "output_type": "execute_result"
    }
   ],
   "source": [
    "df_model.shape"
   ]
  },
  {
   "cell_type": "code",
   "execution_count": 88,
   "id": "fd8515e0",
   "metadata": {},
   "outputs": [
    {
     "data": {
      "text/plain": [
       "loan_status\n",
       "0    8.039795\n",
       "1    1.960205\n",
       "Name: count, dtype: float64"
      ]
     },
     "execution_count": 88,
     "metadata": {},
     "output_type": "execute_result"
    }
   ],
   "source": [
    "df_model['loan_status'].value_counts()/(len(df))*100"
   ]
  },
  {
   "cell_type": "code",
   "execution_count": 89,
   "id": "093e0cda",
   "metadata": {},
   "outputs": [
    {
     "data": {
      "text/html": [
       "<div>\n",
       "<style scoped>\n",
       "    .dataframe tbody tr th:only-of-type {\n",
       "        vertical-align: middle;\n",
       "    }\n",
       "\n",
       "    .dataframe tbody tr th {\n",
       "        vertical-align: top;\n",
       "    }\n",
       "\n",
       "    .dataframe thead th {\n",
       "        text-align: right;\n",
       "    }\n",
       "</style>\n",
       "<table border=\"1\" class=\"dataframe\">\n",
       "  <thead>\n",
       "    <tr style=\"text-align: right;\">\n",
       "      <th></th>\n",
       "      <th>loan_amnt</th>\n",
       "      <th>term</th>\n",
       "      <th>int_rate</th>\n",
       "      <th>installment</th>\n",
       "      <th>grade</th>\n",
       "      <th>sub_grade</th>\n",
       "      <th>emp_length</th>\n",
       "      <th>annual_inc</th>\n",
       "      <th>loan_status</th>\n",
       "      <th>dti</th>\n",
       "      <th>...</th>\n",
       "      <th>Zip_11650</th>\n",
       "      <th>Zip_22690</th>\n",
       "      <th>Zip_29597</th>\n",
       "      <th>Zip_30723</th>\n",
       "      <th>Zip_48052</th>\n",
       "      <th>Zip_70466</th>\n",
       "      <th>Zip_86630</th>\n",
       "      <th>Zip_93700</th>\n",
       "      <th>borrowing_experience</th>\n",
       "      <th>w</th>\n",
       "    </tr>\n",
       "  </thead>\n",
       "  <tbody>\n",
       "    <tr>\n",
       "      <th>103293</th>\n",
       "      <td>6250.0</td>\n",
       "      <td>36</td>\n",
       "      <td>17.10</td>\n",
       "      <td>223.15</td>\n",
       "      <td>3</td>\n",
       "      <td>5</td>\n",
       "      <td>4.0</td>\n",
       "      <td>21000.1</td>\n",
       "      <td>0</td>\n",
       "      <td>20.97</td>\n",
       "      <td>...</td>\n",
       "      <td>False</td>\n",
       "      <td>False</td>\n",
       "      <td>False</td>\n",
       "      <td>True</td>\n",
       "      <td>False</td>\n",
       "      <td>False</td>\n",
       "      <td>False</td>\n",
       "      <td>False</td>\n",
       "      <td>3014</td>\n",
       "      <td>False</td>\n",
       "    </tr>\n",
       "    <tr>\n",
       "      <th>196202</th>\n",
       "      <td>16325.0</td>\n",
       "      <td>36</td>\n",
       "      <td>6.89</td>\n",
       "      <td>503.25</td>\n",
       "      <td>1</td>\n",
       "      <td>3</td>\n",
       "      <td>10.0</td>\n",
       "      <td>145000.0</td>\n",
       "      <td>0</td>\n",
       "      <td>20.94</td>\n",
       "      <td>...</td>\n",
       "      <td>False</td>\n",
       "      <td>False</td>\n",
       "      <td>False</td>\n",
       "      <td>False</td>\n",
       "      <td>True</td>\n",
       "      <td>False</td>\n",
       "      <td>False</td>\n",
       "      <td>False</td>\n",
       "      <td>11902</td>\n",
       "      <td>True</td>\n",
       "    </tr>\n",
       "    <tr>\n",
       "      <th>183087</th>\n",
       "      <td>14600.0</td>\n",
       "      <td>60</td>\n",
       "      <td>18.25</td>\n",
       "      <td>372.74</td>\n",
       "      <td>4</td>\n",
       "      <td>3</td>\n",
       "      <td>2.0</td>\n",
       "      <td>47000.0</td>\n",
       "      <td>0</td>\n",
       "      <td>13.61</td>\n",
       "      <td>...</td>\n",
       "      <td>False</td>\n",
       "      <td>False</td>\n",
       "      <td>True</td>\n",
       "      <td>False</td>\n",
       "      <td>False</td>\n",
       "      <td>False</td>\n",
       "      <td>False</td>\n",
       "      <td>False</td>\n",
       "      <td>2861</td>\n",
       "      <td>False</td>\n",
       "    </tr>\n",
       "    <tr>\n",
       "      <th>181597</th>\n",
       "      <td>8000.0</td>\n",
       "      <td>36</td>\n",
       "      <td>10.99</td>\n",
       "      <td>261.88</td>\n",
       "      <td>2</td>\n",
       "      <td>4</td>\n",
       "      <td>0.5</td>\n",
       "      <td>35000.0</td>\n",
       "      <td>0</td>\n",
       "      <td>13.99</td>\n",
       "      <td>...</td>\n",
       "      <td>False</td>\n",
       "      <td>False</td>\n",
       "      <td>True</td>\n",
       "      <td>False</td>\n",
       "      <td>False</td>\n",
       "      <td>False</td>\n",
       "      <td>False</td>\n",
       "      <td>False</td>\n",
       "      <td>5264</td>\n",
       "      <td>False</td>\n",
       "    </tr>\n",
       "    <tr>\n",
       "      <th>195771</th>\n",
       "      <td>10850.0</td>\n",
       "      <td>36</td>\n",
       "      <td>12.69</td>\n",
       "      <td>363.97</td>\n",
       "      <td>3</td>\n",
       "      <td>2</td>\n",
       "      <td>7.0</td>\n",
       "      <td>56825.0</td>\n",
       "      <td>0</td>\n",
       "      <td>26.93</td>\n",
       "      <td>...</td>\n",
       "      <td>False</td>\n",
       "      <td>True</td>\n",
       "      <td>False</td>\n",
       "      <td>False</td>\n",
       "      <td>False</td>\n",
       "      <td>False</td>\n",
       "      <td>False</td>\n",
       "      <td>False</td>\n",
       "      <td>7032</td>\n",
       "      <td>False</td>\n",
       "    </tr>\n",
       "  </tbody>\n",
       "</table>\n",
       "<p>5 rows × 50 columns</p>\n",
       "</div>"
      ],
      "text/plain": [
       "        loan_amnt  term  int_rate  installment  grade  sub_grade  emp_length  \\\n",
       "103293     6250.0    36     17.10       223.15      3          5         4.0   \n",
       "196202    16325.0    36      6.89       503.25      1          3        10.0   \n",
       "183087    14600.0    60     18.25       372.74      4          3         2.0   \n",
       "181597     8000.0    36     10.99       261.88      2          4         0.5   \n",
       "195771    10850.0    36     12.69       363.97      3          2         7.0   \n",
       "\n",
       "        annual_inc  loan_status    dti  ...  Zip_11650  Zip_22690  Zip_29597  \\\n",
       "103293     21000.1            0  20.97  ...      False      False      False   \n",
       "196202    145000.0            0  20.94  ...      False      False      False   \n",
       "183087     47000.0            0  13.61  ...      False      False       True   \n",
       "181597     35000.0            0  13.99  ...      False      False       True   \n",
       "195771     56825.0            0  26.93  ...      False       True      False   \n",
       "\n",
       "        Zip_30723  Zip_48052  Zip_70466  Zip_86630  Zip_93700  \\\n",
       "103293       True      False      False      False      False   \n",
       "196202      False       True      False      False      False   \n",
       "183087      False      False      False      False      False   \n",
       "181597      False      False      False      False      False   \n",
       "195771      False      False      False      False      False   \n",
       "\n",
       "        borrowing_experience      w  \n",
       "103293                  3014  False  \n",
       "196202                 11902   True  \n",
       "183087                  2861  False  \n",
       "181597                  5264  False  \n",
       "195771                  7032  False  \n",
       "\n",
       "[5 rows x 50 columns]"
      ]
     },
     "execution_count": 89,
     "metadata": {},
     "output_type": "execute_result"
    }
   ],
   "source": [
    "df_model.head()"
   ]
  },
  {
   "cell_type": "code",
   "execution_count": 90,
   "id": "b6d9c721",
   "metadata": {},
   "outputs": [
    {
     "name": "stdout",
     "output_type": "stream",
     "text": [
      "<class 'pandas.core.frame.DataFrame'>\n",
      "Index: 39603 entries, 103293 to 382477\n",
      "Data columns (total 50 columns):\n",
      " #   Column                Non-Null Count  Dtype  \n",
      "---  ------                --------------  -----  \n",
      " 0   loan_amnt             39603 non-null  float64\n",
      " 1   term                  39603 non-null  int64  \n",
      " 2   int_rate              39603 non-null  float64\n",
      " 3   installment           39603 non-null  float64\n",
      " 4   grade                 39603 non-null  int64  \n",
      " 5   sub_grade             39603 non-null  int64  \n",
      " 6   emp_length            39603 non-null  float64\n",
      " 7   annual_inc            39603 non-null  float64\n",
      " 8   loan_status           39603 non-null  int64  \n",
      " 9   dti                   39603 non-null  float64\n",
      " 10  open_acc              39603 non-null  float64\n",
      " 11  pub_rec               39603 non-null  float64\n",
      " 12  revol_bal             39603 non-null  float64\n",
      " 13  revol_util            39603 non-null  float64\n",
      " 14  total_acc             39603 non-null  float64\n",
      " 15  mort_acc              39603 non-null  float64\n",
      " 16  pub_rec_bankruptcies  39603 non-null  float64\n",
      " 17  INDIVIDUAL            39603 non-null  bool   \n",
      " 18  JOINT                 39603 non-null  bool   \n",
      " 19  credit_card           39603 non-null  bool   \n",
      " 20  debt_consolidation    39603 non-null  bool   \n",
      " 21  educational           39603 non-null  bool   \n",
      " 22  home_improvement      39603 non-null  bool   \n",
      " 23  house                 39603 non-null  bool   \n",
      " 24  major_purchase        39603 non-null  bool   \n",
      " 25  medical               39603 non-null  bool   \n",
      " 26  moving                39603 non-null  bool   \n",
      " 27  other                 39603 non-null  bool   \n",
      " 28  renewable_energy      39603 non-null  bool   \n",
      " 29  small_business        39603 non-null  bool   \n",
      " 30  vacation              39603 non-null  bool   \n",
      " 31  wedding               39603 non-null  bool   \n",
      " 32  Source Verified       39603 non-null  bool   \n",
      " 33  Verified              39603 non-null  bool   \n",
      " 34  MORTGAGE              39603 non-null  bool   \n",
      " 35  NONE                  39603 non-null  bool   \n",
      " 36  OTHER                 39603 non-null  bool   \n",
      " 37  OWN                   39603 non-null  bool   \n",
      " 38  RENT                  39603 non-null  bool   \n",
      " 39  Zip_5113              39603 non-null  bool   \n",
      " 40  Zip_11650             39603 non-null  bool   \n",
      " 41  Zip_22690             39603 non-null  bool   \n",
      " 42  Zip_29597             39603 non-null  bool   \n",
      " 43  Zip_30723             39603 non-null  bool   \n",
      " 44  Zip_48052             39603 non-null  bool   \n",
      " 45  Zip_70466             39603 non-null  bool   \n",
      " 46  Zip_86630             39603 non-null  bool   \n",
      " 47  Zip_93700             39603 non-null  bool   \n",
      " 48  borrowing_experience  39603 non-null  int64  \n",
      " 49  w                     39603 non-null  bool   \n",
      "dtypes: bool(32), float64(13), int64(5)\n",
      "memory usage: 6.9 MB\n"
     ]
    }
   ],
   "source": [
    "df_model.info()"
   ]
  },
  {
   "cell_type": "code",
   "execution_count": 91,
   "id": "dda1b9c6",
   "metadata": {},
   "outputs": [],
   "source": [
    "#df_for_model_v2 = df_for_model.drop(columns=['title','emp_title','home_ownership','sub_grade','verification_status','address'])"
   ]
  },
  {
   "cell_type": "code",
   "execution_count": 92,
   "id": "3691e355",
   "metadata": {},
   "outputs": [],
   "source": [
    "X = df_model.drop(columns=['loan_status']).values\n",
    "y = df_model['loan_status'].values"
   ]
  },
  {
   "cell_type": "code",
   "execution_count": 93,
   "id": "8ea5ecdd",
   "metadata": {},
   "outputs": [
    {
     "data": {
      "text/plain": [
       "array([[6250.0, 36, 17.1, ..., False, 3014, False],\n",
       "       [16325.0, 36, 6.89, ..., False, 11902, True],\n",
       "       [14600.0, 60, 18.25, ..., False, 2861, False],\n",
       "       ...,\n",
       "       [15550.0, 60, 16.99, ..., False, 4200, True],\n",
       "       [5000.0, 36, 13.11, ..., False, 4171, True],\n",
       "       [15000.0, 36, 13.11, ..., False, 6726, True]], dtype=object)"
      ]
     },
     "execution_count": 93,
     "metadata": {},
     "output_type": "execute_result"
    }
   ],
   "source": [
    "X"
   ]
  },
  {
   "cell_type": "code",
   "execution_count": 94,
   "id": "6c2f8ee5",
   "metadata": {},
   "outputs": [
    {
     "data": {
      "text/plain": [
       "array([0, 0, 0, ..., 0, 0, 0])"
      ]
     },
     "execution_count": 94,
     "metadata": {},
     "output_type": "execute_result"
    }
   ],
   "source": [
    "y"
   ]
  },
  {
   "cell_type": "code",
   "execution_count": 95,
   "id": "456bd223",
   "metadata": {},
   "outputs": [],
   "source": [
    "from sklearn.model_selection import train_test_split\n",
    "\n",
    "X_train,X_test,y_train,y_test = train_test_split(X,y, test_size=0.25,stratify=y,random_state=101)"
   ]
  },
  {
   "cell_type": "code",
   "execution_count": 96,
   "id": "32807d2b",
   "metadata": {},
   "outputs": [],
   "source": [
    "X_tr, X_val, y_tr, y_val = train_test_split(X_train, y_train, test_size = 0.25, stratify=y_train,random_state = 101)"
   ]
  },
  {
   "cell_type": "code",
   "execution_count": 97,
   "id": "71f95153",
   "metadata": {},
   "outputs": [],
   "source": [
    "from sklearn.preprocessing import MinMaxScaler"
   ]
  },
  {
   "cell_type": "code",
   "execution_count": 98,
   "id": "110ebd4a",
   "metadata": {},
   "outputs": [],
   "source": [
    "scaler = MinMaxScaler()"
   ]
  },
  {
   "cell_type": "code",
   "execution_count": 99,
   "id": "24997f6e",
   "metadata": {},
   "outputs": [],
   "source": [
    "X_tr = scaler.fit_transform(X_tr)"
   ]
  },
  {
   "cell_type": "code",
   "execution_count": 100,
   "id": "d3e8c5c7",
   "metadata": {},
   "outputs": [
    {
     "data": {
      "text/plain": [
       "array([[0.24050633, 1.        , 0.50765607, ..., 0.        , 0.22848587,\n",
       "        0.        ],\n",
       "       [0.14556962, 0.        , 0.61562623, ..., 0.        , 0.15332205,\n",
       "        0.        ],\n",
       "       [0.20253165, 0.        , 0.02394974, ..., 0.        , 0.28924185,\n",
       "        0.        ],\n",
       "       ...,\n",
       "       [0.4835443 , 0.        , 0.44091088, ..., 0.        , 0.24697305,\n",
       "        0.        ],\n",
       "       [0.3056962 , 0.        , 0.58421673, ..., 0.        , 0.12021004,\n",
       "        1.        ],\n",
       "       [0.20316456, 0.        , 0.69375736, ..., 0.        , 0.20479104,\n",
       "        1.        ]])"
      ]
     },
     "execution_count": 100,
     "metadata": {},
     "output_type": "execute_result"
    }
   ],
   "source": [
    "X_tr"
   ]
  },
  {
   "cell_type": "code",
   "execution_count": 101,
   "id": "fc009e9e",
   "metadata": {},
   "outputs": [],
   "source": [
    "X_val = scaler.transform(X_val)"
   ]
  },
  {
   "cell_type": "code",
   "execution_count": 102,
   "id": "c80d5233",
   "metadata": {},
   "outputs": [],
   "source": [
    "from tensorflow.keras.models import Sequential\n",
    "from tensorflow.keras.layers import Dense, Dropout"
   ]
  },
  {
   "cell_type": "code",
   "execution_count": 103,
   "id": "3c0c8b79",
   "metadata": {},
   "outputs": [
    {
     "name": "stdout",
     "output_type": "stream",
     "text": [
      "Metal device set to: Apple M1\n"
     ]
    },
    {
     "name": "stderr",
     "output_type": "stream",
     "text": [
      "2024-02-15 16:58:27.572528: I tensorflow/core/common_runtime/pluggable_device/pluggable_device_factory.cc:305] Could not identify NUMA node of platform GPU ID 0, defaulting to 0. Your kernel may not have been built with NUMA support.\n",
      "2024-02-15 16:58:27.573968: I tensorflow/core/common_runtime/pluggable_device/pluggable_device_factory.cc:271] Created TensorFlow device (/job:localhost/replica:0/task:0/device:GPU:0 with 0 MB memory) -> physical PluggableDevice (device: 0, name: METAL, pci bus id: <undefined>)\n"
     ]
    }
   ],
   "source": [
    "model = Sequential()\n",
    "\n",
    "model.add(Dense(64,activation='relu'))\n",
    "model.add(Dropout(0.5))\n",
    "\n",
    "model.add(Dense(32,activation='relu'))\n",
    "model.add(Dropout(0.5))\n",
    "\n",
    "model.add(Dense(16,activation='relu'))\n",
    "model.add(Dropout(0.5))\n",
    "\n",
    "model.add(Dense(1,activation='sigmoid'))\n",
    "\n",
    "model.compile(loss='binary_crossentropy', optimizer='adam')"
   ]
  },
  {
   "cell_type": "code",
   "execution_count": 104,
   "id": "36a101a4",
   "metadata": {},
   "outputs": [
    {
     "name": "stdout",
     "output_type": "stream",
     "text": [
      "Epoch 1/100\n"
     ]
    },
    {
     "name": "stderr",
     "output_type": "stream",
     "text": [
      "2024-02-15 16:58:27.964027: W tensorflow/core/platform/profile_utils/cpu_utils.cc:128] Failed to get CPU frequency: 0 Hz\n",
      "2024-02-15 16:58:28.384566: I tensorflow/core/grappler/optimizers/custom_graph_optimizer_registry.cc:113] Plugin optimizer for device_type GPU is enabled.\n"
     ]
    },
    {
     "name": "stdout",
     "output_type": "stream",
     "text": [
      "697/697 [==============================] - ETA: 0s - loss: 0.4420"
     ]
    },
    {
     "name": "stderr",
     "output_type": "stream",
     "text": [
      "2024-02-15 16:58:34.097620: I tensorflow/core/grappler/optimizers/custom_graph_optimizer_registry.cc:113] Plugin optimizer for device_type GPU is enabled.\n"
     ]
    },
    {
     "name": "stdout",
     "output_type": "stream",
     "text": [
      "697/697 [==============================] - 7s 10ms/step - loss: 0.4420 - val_loss: 0.3195\n",
      "Epoch 2/100\n",
      "697/697 [==============================] - 6s 9ms/step - loss: 0.3170 - val_loss: 0.2812\n",
      "Epoch 3/100\n",
      "697/697 [==============================] - 6s 8ms/step - loss: 0.2956 - val_loss: 0.2803\n",
      "Epoch 4/100\n",
      "697/697 [==============================] - 6s 8ms/step - loss: 0.2853 - val_loss: 0.2722\n",
      "Epoch 5/100\n",
      "697/697 [==============================] - 6s 8ms/step - loss: 0.2798 - val_loss: 0.2680\n",
      "Epoch 6/100\n",
      "697/697 [==============================] - 6s 8ms/step - loss: 0.2758 - val_loss: 0.2664\n",
      "Epoch 7/100\n",
      "697/697 [==============================] - 6s 8ms/step - loss: 0.2734 - val_loss: 0.2666\n",
      "Epoch 8/100\n",
      "697/697 [==============================] - 6s 8ms/step - loss: 0.2717 - val_loss: 0.2665\n",
      "Epoch 9/100\n",
      "697/697 [==============================] - 5s 8ms/step - loss: 0.2698 - val_loss: 0.2633\n",
      "Epoch 10/100\n",
      "697/697 [==============================] - 6s 8ms/step - loss: 0.2693 - val_loss: 0.2648\n",
      "Epoch 11/100\n",
      "697/697 [==============================] - 6s 8ms/step - loss: 0.2668 - val_loss: 0.2642\n",
      "Epoch 12/100\n",
      "697/697 [==============================] - 6s 9ms/step - loss: 0.2668 - val_loss: 0.2639\n",
      "Epoch 13/100\n",
      "697/697 [==============================] - 6s 8ms/step - loss: 0.2658 - val_loss: 0.2632\n",
      "Epoch 14/100\n",
      "697/697 [==============================] - 6s 8ms/step - loss: 0.2657 - val_loss: 0.2618\n",
      "Epoch 15/100\n",
      "697/697 [==============================] - 6s 9ms/step - loss: 0.2645 - val_loss: 0.2638\n",
      "Epoch 16/100\n",
      "697/697 [==============================] - 6s 8ms/step - loss: 0.2646 - val_loss: 0.2627\n",
      "Epoch 17/100\n",
      "697/697 [==============================] - 6s 8ms/step - loss: 0.2623 - val_loss: 0.2620\n",
      "Epoch 18/100\n",
      "697/697 [==============================] - 6s 8ms/step - loss: 0.2625 - val_loss: 0.2643\n",
      "Epoch 19/100\n",
      "697/697 [==============================] - 6s 8ms/step - loss: 0.2620 - val_loss: 0.2643\n",
      "Epoch 20/100\n",
      "697/697 [==============================] - 6s 8ms/step - loss: 0.2615 - val_loss: 0.2629\n",
      "Epoch 21/100\n",
      "697/697 [==============================] - 6s 8ms/step - loss: 0.2608 - val_loss: 0.2624\n",
      "Epoch 22/100\n",
      "697/697 [==============================] - 6s 9ms/step - loss: 0.2615 - val_loss: 0.2631\n",
      "Epoch 23/100\n",
      "697/697 [==============================] - 6s 8ms/step - loss: 0.2595 - val_loss: 0.2639\n",
      "Epoch 24/100\n",
      "697/697 [==============================] - 6s 8ms/step - loss: 0.2609 - val_loss: 0.2632\n",
      "Epoch 25/100\n",
      "697/697 [==============================] - 6s 8ms/step - loss: 0.2594 - val_loss: 0.2630\n",
      "Epoch 26/100\n",
      "697/697 [==============================] - 6s 8ms/step - loss: 0.2585 - val_loss: 0.2638\n",
      "Epoch 27/100\n",
      "697/697 [==============================] - 6s 8ms/step - loss: 0.2585 - val_loss: 0.2640\n",
      "Epoch 28/100\n",
      "697/697 [==============================] - 6s 8ms/step - loss: 0.2580 - val_loss: 0.2629\n",
      "Epoch 29/100\n",
      "697/697 [==============================] - 6s 8ms/step - loss: 0.2594 - val_loss: 0.2639\n",
      "Epoch 30/100\n",
      "697/697 [==============================] - 6s 8ms/step - loss: 0.2575 - val_loss: 0.2640\n",
      "Epoch 31/100\n",
      "697/697 [==============================] - 6s 9ms/step - loss: 0.2575 - val_loss: 0.2673\n",
      "Epoch 32/100\n",
      "697/697 [==============================] - 6s 9ms/step - loss: 0.2566 - val_loss: 0.2640\n",
      "Epoch 33/100\n",
      "697/697 [==============================] - 6s 9ms/step - loss: 0.2568 - val_loss: 0.2649\n",
      "Epoch 34/100\n",
      "697/697 [==============================] - 6s 8ms/step - loss: 0.2564 - val_loss: 0.2654\n",
      "Epoch 35/100\n",
      "697/697 [==============================] - 6s 8ms/step - loss: 0.2561 - val_loss: 0.2655\n",
      "Epoch 36/100\n",
      "697/697 [==============================] - 6s 8ms/step - loss: 0.2568 - val_loss: 0.2649\n",
      "Epoch 37/100\n",
      "697/697 [==============================] - 6s 8ms/step - loss: 0.2567 - val_loss: 0.2647\n",
      "Epoch 38/100\n",
      "697/697 [==============================] - 6s 8ms/step - loss: 0.2553 - val_loss: 0.2654\n",
      "Epoch 39/100\n",
      "697/697 [==============================] - 6s 8ms/step - loss: 0.2549 - val_loss: 0.2650\n",
      "Epoch 39: early stopping\n",
      "CPU times: user 3min 20s, sys: 56.1 s, total: 4min 16s\n",
      "Wall time: 3min 45s\n"
     ]
    },
    {
     "data": {
      "text/plain": [
       "<keras.callbacks.History at 0x2a79fb970>"
      ]
     },
     "execution_count": 104,
     "metadata": {},
     "output_type": "execute_result"
    }
   ],
   "source": [
    "%%time\n",
    "from tensorflow.keras.callbacks import EarlyStopping\n",
    "\n",
    "early_stop = EarlyStopping(monitor='val_loss',mode='min',verbose=1,patience=25)\n",
    "\n",
    "model.fit(x=X_tr,y=y_tr,epochs=100,validation_data=(X_val,y_val),\n",
    "         callbacks=[early_stop])"
   ]
  },
  {
   "cell_type": "code",
   "execution_count": 105,
   "id": "bae0ed35",
   "metadata": {},
   "outputs": [],
   "source": [
    "losses = pd.DataFrame(model.history.history)"
   ]
  },
  {
   "cell_type": "code",
   "execution_count": 106,
   "id": "08e83b2a",
   "metadata": {},
   "outputs": [
    {
     "data": {
      "text/plain": [
       "<Axes: >"
      ]
     },
     "execution_count": 106,
     "metadata": {},
     "output_type": "execute_result"
    },
    {
     "data": {
      "image/png": "[encoded data removed]",
      "text/plain": [
       "<Figure size 640x480 with 1 Axes>"
      ]
     },
     "metadata": {},
     "output_type": "display_data"
    }
   ],
   "source": [
    "losses.plot()"
   ]
  },
  {
   "cell_type": "code",
   "execution_count": 107,
   "id": "a570db12",
   "metadata": {},
   "outputs": [
    {
     "name": "stdout",
     "output_type": "stream",
     "text": [
      " 24/233 [==>...........................] - ETA: 0s "
     ]
    },
    {
     "name": "stderr",
     "output_type": "stream",
     "text": [
      "2024-02-15 17:02:14.095359: I tensorflow/core/grappler/optimizers/custom_graph_optimizer_registry.cc:113] Plugin optimizer for device_type GPU is enabled.\n"
     ]
    },
    {
     "name": "stdout",
     "output_type": "stream",
     "text": [
      "233/233 [==============================] - 1s 2ms/step\n"
     ]
    }
   ],
   "source": [
    "predictions = model.predict(X_val)"
   ]
  },
  {
   "cell_type": "code",
   "execution_count": 108,
   "id": "b3ddcc4e",
   "metadata": {},
   "outputs": [],
   "source": [
    "predictions = np.round(predictions).astype(int)"
   ]
  },
  {
   "cell_type": "code",
   "execution_count": 116,
   "id": "a0b95b83",
   "metadata": {},
   "outputs": [
    {
     "name": "stdout",
     "output_type": "stream",
     "text": [
      "              precision    recall  f1-score   support\n",
      "\n",
      "           0       0.88      1.00      0.94      5970\n",
      "           1       0.99      0.44      0.61      1456\n",
      "\n",
      "    accuracy                           0.89      7426\n",
      "   macro avg       0.93      0.72      0.77      7426\n",
      "weighted avg       0.90      0.89      0.87      7426\n",
      "\n",
      "[[5961    9]\n",
      " [ 814  642]]\n"
     ]
    }
   ],
   "source": [
    "from sklearn.metrics import classification_report,confusion_matrix\n",
    "print(classification_report(y_val,predictions))\n",
    "print(confusion_matrix(y_val,predictions))"
   ]
  },
  {
   "cell_type": "code",
   "execution_count": 117,
   "id": "b32e7447",
   "metadata": {},
   "outputs": [],
   "source": [
    "from sklearn.metrics import recall_score,accuracy_score,precision_score,f1_score"
   ]
  },
  {
   "cell_type": "code",
   "execution_count": 118,
   "id": "f2fb6e09",
   "metadata": {},
   "outputs": [
    {
     "name": "stdout",
     "output_type": "stream",
     "text": [
      "Accuracy score:  0.8891731753299219\n",
      "Recall score:  0.4409340659340659\n",
      "Precision score:  0.9861751152073732\n",
      "F1 score:  0.6093972472710014\n"
     ]
    }
   ],
   "source": [
    "print('Accuracy score: ',accuracy_score(y_val,predictions))\n",
    "print('Recall score: ',recall_score(y_val,predictions))\n",
    "print('Precision score: ',precision_score(y_val,predictions))\n",
    "print('F1 score: ',f1_score(y_val,predictions))"
   ]
  },
  {
   "cell_type": "code",
   "execution_count": null,
   "id": "cdf52d0e",
   "metadata": {},
   "outputs": [],
   "source": []
  },
  {
   "cell_type": "code",
   "execution_count": 119,
   "id": "c4a1a8a8",
   "metadata": {},
   "outputs": [],
   "source": [
    "X_test = scaler.transform(X_test)"
   ]
  },
  {
   "cell_type": "code",
   "execution_count": 120,
   "id": "3d2d2344",
   "metadata": {},
   "outputs": [
    {
     "name": "stdout",
     "output_type": "stream",
     "text": [
      "310/310 [==============================] - 1s 2ms/step\n"
     ]
    }
   ],
   "source": [
    "Y_PREDS = model.predict(X_test)"
   ]
  },
  {
   "cell_type": "code",
   "execution_count": 121,
   "id": "a9ad1c8c",
   "metadata": {},
   "outputs": [],
   "source": [
    "Y_PREDS = np.round(Y_PREDS).astype(int)"
   ]
  },
  {
   "cell_type": "code",
   "execution_count": 122,
   "id": "d56a75b6",
   "metadata": {},
   "outputs": [
    {
     "name": "stdout",
     "output_type": "stream",
     "text": [
      "              precision    recall  f1-score   support\n",
      "\n",
      "           0       0.88      1.00      0.93      7960\n",
      "           1       1.00      0.42      0.59      1941\n",
      "\n",
      "    accuracy                           0.89      9901\n",
      "   macro avg       0.94      0.71      0.76      9901\n",
      "weighted avg       0.90      0.89      0.87      9901\n",
      "\n"
     ]
    }
   ],
   "source": [
    "print(classification_report(y_test, Y_PREDS))"
   ]
  },
  {
   "cell_type": "code",
   "execution_count": null,
   "id": "6a1af591",
   "metadata": {},
   "outputs": [],
   "source": []
  },
  {
   "cell_type": "code",
   "execution_count": null,
   "id": "edf5dea3",
   "metadata": {},
   "outputs": [],
   "source": []
  },
  {
   "cell_type": "code",
   "execution_count": 123,
   "id": "56448c37",
   "metadata": {},
   "outputs": [],
   "source": [
    "X_TR,X_TEST,y_TR,y_TEST=train_test_split(X,y,test_size=0.3)"
   ]
  },
  {
   "cell_type": "code",
   "execution_count": 124,
   "id": "8fa706b7",
   "metadata": {},
   "outputs": [
    {
     "name": "stdout",
     "output_type": "stream",
     "text": [
      "[[8532 1043]\n",
      " [ 998 1308]]\n",
      "\n",
      "\n",
      "              precision    recall  f1-score   support\n",
      "\n",
      "           0       0.90      0.89      0.89      9575\n",
      "           1       0.56      0.57      0.56      2306\n",
      "\n",
      "    accuracy                           0.83     11881\n",
      "   macro avg       0.73      0.73      0.73     11881\n",
      "weighted avg       0.83      0.83      0.83     11881\n",
      "\n",
      "Decision Tree model accuracy: 0.828213113374295\n",
      "Decision Tree model recall: 0.5672159583694709\n",
      "Decision Tree model precision: 0.5563589961718418\n",
      "Decision Tree model F1: 0.5617350225467039\n",
      "CPU times: user 440 ms, sys: 63.7 ms, total: 504 ms\n",
      "Wall time: 776 ms\n"
     ]
    }
   ],
   "source": [
    "%%time\n",
    "#Training our model\n",
    "from sklearn.tree import DecisionTreeClassifier\n",
    "\n",
    "dtree = DecisionTreeClassifier()\n",
    "\n",
    "dtree.fit(X_TR, y_TR)\n",
    "\n",
    "predictions = dtree.predict(X_TEST)\n",
    "\n",
    "#Evaluating accuracy of model\n",
    "from sklearn.metrics import classification_report,confusion_matrix\n",
    "\n",
    "print(confusion_matrix(y_TEST, predictions))\n",
    "print('\\n')\n",
    "print(classification_report(y_TEST, predictions))\n",
    "\n",
    "from sklearn import metrics\n",
    "print(\"Decision Tree model accuracy:\", metrics.accuracy_score(y_TEST, predictions))\n",
    "print(\"Decision Tree model recall:\", metrics.recall_score(y_TEST, predictions))\n",
    "print(\"Decision Tree model precision:\", metrics.precision_score(y_TEST, predictions))\n",
    "print(\"Decision Tree model F1:\", metrics.f1_score(y_TEST, predictions))"
   ]
  },
  {
   "cell_type": "code",
   "execution_count": null,
   "id": "2e500f49",
   "metadata": {},
   "outputs": [],
   "source": []
  },
  {
   "cell_type": "code",
   "execution_count": 125,
   "id": "40034d10",
   "metadata": {},
   "outputs": [
    {
     "name": "stdout",
     "output_type": "stream",
     "text": [
      "[[8532 1043]\n",
      " [ 998 1308]]\n",
      "\n",
      "\n",
      "              precision    recall  f1-score   support\n",
      "\n",
      "           0       0.90      0.89      0.89      9575\n",
      "           1       0.56      0.57      0.56      2306\n",
      "\n",
      "    accuracy                           0.83     11881\n",
      "   macro avg       0.73      0.73      0.73     11881\n",
      "weighted avg       0.83      0.83      0.83     11881\n",
      "\n",
      "RFC model accuracy: 0.828213113374295\n",
      "RFC Tree model recall: 0.5672159583694709\n",
      "RFC Tree model precision: 0.5563589961718418\n",
      "RFC Tree model F1: 0.5617350225467039\n",
      "CPU times: user 3.72 s, sys: 62.2 ms, total: 3.78 s\n",
      "Wall time: 3.87 s\n"
     ]
    }
   ],
   "source": [
    "%%time\n",
    "#Training our model\n",
    "from sklearn.ensemble import RandomForestClassifier\n",
    "\n",
    "rfc = RandomForestClassifier()\n",
    "\n",
    "rfc.fit(X_TR, y_TR)\n",
    "\n",
    "predictions = dtree.predict(X_TEST)\n",
    "\n",
    "#Evaluating accuracy of model\n",
    "from sklearn.metrics import classification_report,confusion_matrix\n",
    "\n",
    "print(confusion_matrix(y_TEST, predictions))\n",
    "print('\\n')\n",
    "print(classification_report(y_TEST, predictions))\n",
    "\n",
    "from sklearn import metrics\n",
    "print(\"RFC model accuracy:\", metrics.accuracy_score(y_TEST, predictions))\n",
    "print(\"RFC Tree model recall:\", metrics.recall_score(y_TEST, predictions))\n",
    "print(\"RFC Tree model precision:\", metrics.precision_score(y_TEST, predictions))\n",
    "print(\"RFC Tree model F1:\", metrics.f1_score(y_TEST, predictions))"
   ]
  },
  {
   "cell_type": "code",
   "execution_count": null,
   "id": "2145c98b",
   "metadata": {},
   "outputs": [],
   "source": []
  },
  {
   "cell_type": "code",
   "execution_count": 126,
   "id": "63a83e0f",
   "metadata": {},
   "outputs": [],
   "source": [
    "X_ = df.drop(columns=['loan_status'])\n",
    "y_ = df['loan_status']\n",
    "X__tr,X__test,y__tr,y__test = train_test_split(X_,y_, test_size=0.25,stratify=y_,random_state=101)"
   ]
  },
  {
   "cell_type": "code",
   "execution_count": 127,
   "id": "ea48960a",
   "metadata": {},
   "outputs": [
    {
     "name": "stdout",
     "output_type": "stream",
     "text": [
      "[[79218   372]\n",
      " [10580  8838]]\n",
      "\n",
      "\n",
      "              precision    recall  f1-score   support\n",
      "\n",
      "           0       0.88      1.00      0.94     79590\n",
      "           1       0.96      0.46      0.62     19418\n",
      "\n",
      "    accuracy                           0.89     99008\n",
      "   macro avg       0.92      0.73      0.78     99008\n",
      "weighted avg       0.90      0.89      0.87     99008\n",
      "\n",
      "RFC model accuracy: 0.889382676147382\n",
      "RFC Tree model recall: 0.45514471109280047\n",
      "RFC Tree model precision: 0.9596091205211726\n",
      "RFC Tree model F1: 0.6174374738018723\n",
      "CPU times: user 46 s, sys: 410 ms, total: 46.4 s\n",
      "Wall time: 46.7 s\n"
     ]
    }
   ],
   "source": [
    "%%time\n",
    "rfc = RandomForestClassifier()\n",
    "\n",
    "rfc.fit(X__tr, y__tr)\n",
    "\n",
    "predictions = rfc.predict(X__test)\n",
    "\n",
    "#Evaluating accuracy of model\n",
    "from sklearn.metrics import classification_report,confusion_matrix\n",
    "\n",
    "print(confusion_matrix(y__test, predictions))\n",
    "print('\\n')\n",
    "print(classification_report(y__test, predictions))\n",
    "\n",
    "from sklearn import metrics\n",
    "print(\"RFC model accuracy:\", metrics.accuracy_score(y__test, predictions))\n",
    "print(\"RFC Tree model recall:\", metrics.recall_score(y__test, predictions))\n",
    "print(\"RFC Tree model precision:\", metrics.precision_score(y__test, predictions))\n",
    "print(\"RFC Tree model F1:\", metrics.f1_score(y__test, predictions))"
   ]
  },
  {
   "cell_type": "code",
   "execution_count": null,
   "id": "90131637",
   "metadata": {},
   "outputs": [],
   "source": []
  }
 ],
 "metadata": {
  "kernelspec": {
   "display_name": "Python 3.10 (tensorflow)",
   "language": "python",
   "name": "tensorflow"
  },
  "language_info": {
   "codemirror_mode": {
    "name": "ipython",
    "version": 3
   },
   "file_extension": ".py",
   "mimetype": "text/x-python",
   "name": "python",
   "nbconvert_exporter": "python",
   "pygments_lexer": "ipython3",
   "version": "3.10.12"
  }
 },
 "nbformat": 4,
 "nbformat_minor": 5
}
